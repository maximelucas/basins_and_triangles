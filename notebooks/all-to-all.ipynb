{
 "cells": [
  {
   "cell_type": "markdown",
   "id": "417f4911",
   "metadata": {},
   "source": [
    "# Explore basins and states: all-to-all"
   ]
  },
  {
   "cell_type": "code",
   "execution_count": 125,
   "id": "8da1197d",
   "metadata": {},
   "outputs": [],
   "source": [
    "import sys\n",
    "from pathlib import Path\n",
    "\n",
    "import matplotlib.pyplot as plt\n",
    "import numpy as np\n",
    "import seaborn as sb\n",
    "from tqdm import tqdm\n",
    "\n",
    "sys.path.append(\"../code/\")\n",
    "\n",
    "import xgi\n",
    "from kuramoto_hoi import *\n",
    "\n",
    "sb.set_theme(style=\"ticks\", context=\"notebook\")\n",
    "\n",
    "results_dir = \"../results/\"\n",
    "data_dir = \"../data/\"\n",
    "\n",
    "Path(results_dir).mkdir(parents=True, exist_ok=True)\n",
    "Path(data_dir).mkdir(parents=True, exist_ok=True)"
   ]
  },
  {
   "cell_type": "markdown",
   "id": "9775a80e",
   "metadata": {},
   "source": [
    "## Generate structure"
   ]
  },
  {
   "cell_type": "code",
   "execution_count": 2,
   "id": "7ece7682",
   "metadata": {},
   "outputs": [],
   "source": [
    "N = 30\n",
    "\n",
    "H = xgi.complete_hypergraph(N, max_order=2)"
   ]
  },
  {
   "cell_type": "code",
   "execution_count": 3,
   "id": "93dd7211",
   "metadata": {},
   "outputs": [
    {
     "data": {
      "image/png": "[encoded data removed]",
      "text/plain": [
       "<Figure size 200x200 with 1 Axes>"
      ]
     },
     "metadata": {},
     "output_type": "display_data"
    }
   ],
   "source": [
    "fig, ax = plt.subplots(figsize=(2, 2))\n",
    "pos = xgi.circular_layout(H)\n",
    "\n",
    "xgi.draw(H, pos=pos, ax=ax)\n",
    "\n",
    "plt.show()"
   ]
  },
  {
   "cell_type": "code",
   "execution_count": 4,
   "id": "908d6519",
   "metadata": {},
   "outputs": [],
   "source": [
    "# may be used in the simulation function\n",
    "links = H.edges.filterby(\"size\", 2).members()\n",
    "triangles = H.edges.filterby(\"size\", 3).members()\n",
    "adj1 = xgi.adjacency_matrix(H, order=1)\n",
    "adj2 = xgi.adjacency_matrix(H, order=2)\n",
    "k1_avg = H.nodes.degree(order=1).mean()\n",
    "k2_avg = H.nodes.degree(order=2).mean()"
   ]
  },
  {
   "cell_type": "markdown",
   "id": "388376d1",
   "metadata": {},
   "source": [
    "## Dynamics"
   ]
  },
  {
   "cell_type": "code",
   "execution_count": 55,
   "id": "91f4e739",
   "metadata": {},
   "outputs": [
    {
     "data": {
      "image/png": "[encoded data removed]",
      "text/plain": [
       "<Figure size 100x100 with 1 Axes>"
      ]
     },
     "metadata": {},
     "output_type": "display_data"
    },
    {
     "data": {
      "text/plain": [
       "<matplotlib.colorbar.Colorbar at 0x2ab4ba220>"
      ]
     },
     "execution_count": 55,
     "metadata": {},
     "output_type": "execute_result"
    },
    {
     "data": {
      "image/png": "[encoded data removed]",
      "text/plain": [
       "<Figure size 200x200 with 2 Axes>"
      ]
     },
     "metadata": {},
     "output_type": "display_data"
    }
   ],
   "source": [
    "# Set parameters\n",
    "\n",
    "# dynamical\n",
    "k1 = 1  # pairwise coupling strength\n",
    "k2 = 0  # triplet coupling strength\n",
    "omega = 1 * np.ones(N)  # np.random.normal(size=N) #1 * np.ones(N)\n",
    "\n",
    "ic = \"random\"  # initial condition type, see below\n",
    "noise = 1e-1  # noise strength\n",
    "p2 = None\n",
    "\n",
    "\n",
    "psi_init = generate_state(N, kind=ic, q=2, noise=noise)\n",
    "\n",
    "# integration\n",
    "t_end = 200\n",
    "dt = 0.01\n",
    "times = np.arange(0, t_end + dt / 2, dt)\n",
    "\n",
    "tag_params = f\"k1_{k1}_k2_{k2}_ic_{ic}\"\n",
    "\n",
    "fig, ax = plt.subplots(figsize=(1, 1))\n",
    "plot_phases(psi_init, it=None, ax=ax)\n",
    "plt.show()\n",
    "\n",
    "# only to viz twisted states\n",
    "fig, ax = plt.subplots(figsize=(2, 2))\n",
    "ax, im = xgi.draw(\n",
    "    H, pos=pos, node_fc=psi_init % (2 * np.pi), node_fc_cmap=\"twilight\", node_size=1\n",
    ")\n",
    "plt.colorbar(im, label=\"phase value\")"
   ]
  },
  {
   "cell_type": "code",
   "execution_count": 42,
   "id": "2c369731",
   "metadata": {},
   "outputs": [],
   "source": [
    "def rhs_pairwise_triplet_all_sym(t, psi, omega, k1, k2):\n",
    "    out = (\n",
    "        rhs_pairwise_all(t, psi, omega, k1, k2)\n",
    "        + rhs_triplet_all_sym(t, psi, omega, k1, k2)\n",
    "        - omega\n",
    "    )\n",
    "\n",
    "    return out\n",
    "\n",
    "\n",
    "def rhs_pairwise_triplet_all_asym(t, psi, omega, k1, k2):\n",
    "    out = (\n",
    "        rhs_pairwise_all(t, psi, omega, k1, k2)\n",
    "        + rhs_triplet_all_asym(t, psi, omega, k1, k2)\n",
    "        - omega\n",
    "    )\n",
    "\n",
    "    return out"
   ]
  },
  {
   "cell_type": "code",
   "execution_count": 58,
   "id": "88c5c993",
   "metadata": {},
   "outputs": [
    {
     "name": "stderr",
     "output_type": "stream",
     "text": [
      "100%|█████████████████████████████████████████| 100/100 [00:20<00:00,  4.91it/s]\n"
     ]
    }
   ],
   "source": [
    "n_reps = 100\n",
    "\n",
    "# simulate\n",
    "# kwargs = {\n",
    "#    \"links\": links,\n",
    "#    \"triangles\": triangles,\n",
    "#    \"k1_avg\": k1_avg,\n",
    "#    \"k2_avg\": k2_avg,\n",
    "# }\n",
    "\n",
    "thetas_arr = np.zeros((n_reps, N, len(times)))\n",
    "\n",
    "for i in tqdm(range(n_reps)):\n",
    "    psi_init = generate_state(N, kind=\"random\", noise=noise)\n",
    "\n",
    "    thetas, times = simulate_kuramoto(\n",
    "        H,\n",
    "        k1,\n",
    "        k2,\n",
    "        omega=omega,\n",
    "        theta_0=psi_init,\n",
    "        t_end=t_end,\n",
    "        dt=dt,\n",
    "        rhs=rhs_pairwise_all, # rhs_pairwise_all\n",
    "        # **kwargs\n",
    "    )\n",
    "\n",
    "    thetas_arr[i] = thetas"
   ]
  },
  {
   "cell_type": "code",
   "execution_count": 65,
   "id": "df36a858",
   "metadata": {},
   "outputs": [
    {
     "data": {
      "text/plain": [
       "Text(0.5, 0.98, 'k1_1_k2_0_ic_random')"
      ]
     },
     "execution_count": 65,
     "metadata": {},
     "output_type": "execute_result"
    },
    {
     "data": {
      "image/png": "[encoded data removed]",
      "text/plain": [
       "<Figure size 400x200 with 4 Axes>"
      ]
     },
     "metadata": {},
     "output_type": "display_data"
    }
   ],
   "source": [
    "# plot the last repetition\n",
    "i = 2\n",
    "fig, axs = plot_sync(thetas_arr[i], times)\n",
    "\n",
    "axs[0, 1].set_title(f\"$t={times[0]}$s\", fontsize=\"x-small\")\n",
    "axs[1, 1].set_title(f\"$t={times[-1]}$s\", fontsize=\"x-small\")\n",
    "\n",
    "axs[0, 0].set_xlabel(\"\")\n",
    "axs[1, 0].legend(loc=\"best\", fontsize=\"x-small\")\n",
    "\n",
    "plt.subplots_adjust(hspace=0.5, top=0.8)\n",
    "\n",
    "fig.suptitle(tag_params, fontsize=\"small\")"
   ]
  },
  {
   "cell_type": "code",
   "execution_count": 60,
   "id": "098fa4f4",
   "metadata": {},
   "outputs": [
    {
     "data": {
      "text/plain": [
       "{'sync'}"
      ]
     },
     "execution_count": 60,
     "metadata": {},
     "output_type": "execute_result"
    }
   ],
   "source": [
    "states = [identify_state(thetas, atol=0.5) for thetas in thetas_arr]\n",
    "set(states)"
   ]
  },
  {
   "cell_type": "code",
   "execution_count": 63,
   "id": "6af16e8c",
   "metadata": {},
   "outputs": [
    {
     "data": {
      "text/plain": [
       "(array(['sync'], dtype='<U4'), array([100]))"
      ]
     },
     "execution_count": 63,
     "metadata": {},
     "output_type": "execute_result"
    }
   ],
   "source": [
    "states_unique, counts = np.unique(states, return_counts=True)\n",
    "states_unique, counts"
   ]
  },
  {
   "cell_type": "code",
   "execution_count": 62,
   "id": "f50e22c9",
   "metadata": {},
   "outputs": [
    {
     "data": {
      "text/plain": [
       "['sync',\n",
       " 'sync',\n",
       " 'sync',\n",
       " 'sync',\n",
       " 'sync',\n",
       " 'sync',\n",
       " 'sync',\n",
       " 'sync',\n",
       " 'sync',\n",
       " 'sync',\n",
       " 'sync',\n",
       " 'sync',\n",
       " 'sync',\n",
       " 'sync',\n",
       " 'sync',\n",
       " 'sync',\n",
       " 'sync',\n",
       " 'sync',\n",
       " 'sync',\n",
       " 'sync',\n",
       " 'sync',\n",
       " 'sync',\n",
       " 'sync',\n",
       " 'sync',\n",
       " 'sync',\n",
       " 'sync',\n",
       " 'sync',\n",
       " 'sync',\n",
       " 'sync',\n",
       " 'sync',\n",
       " 'sync',\n",
       " 'sync',\n",
       " 'sync',\n",
       " 'sync',\n",
       " 'sync',\n",
       " 'sync',\n",
       " 'sync',\n",
       " 'sync',\n",
       " 'sync',\n",
       " 'sync',\n",
       " 'sync',\n",
       " 'sync',\n",
       " 'sync',\n",
       " 'sync',\n",
       " 'sync',\n",
       " 'sync',\n",
       " 'sync',\n",
       " 'sync',\n",
       " 'sync',\n",
       " 'sync',\n",
       " 'sync',\n",
       " 'sync',\n",
       " 'sync',\n",
       " 'sync',\n",
       " 'sync',\n",
       " 'sync',\n",
       " 'sync',\n",
       " 'sync',\n",
       " 'sync',\n",
       " 'sync',\n",
       " 'sync',\n",
       " 'sync',\n",
       " 'sync',\n",
       " 'sync',\n",
       " 'sync',\n",
       " 'sync',\n",
       " 'sync',\n",
       " 'sync',\n",
       " 'sync',\n",
       " 'sync',\n",
       " 'sync',\n",
       " 'sync',\n",
       " 'sync',\n",
       " 'sync',\n",
       " 'sync',\n",
       " 'sync',\n",
       " 'sync',\n",
       " 'sync',\n",
       " 'sync',\n",
       " 'sync',\n",
       " 'sync',\n",
       " 'sync',\n",
       " 'sync',\n",
       " 'sync',\n",
       " 'sync',\n",
       " 'sync',\n",
       " 'sync',\n",
       " 'sync',\n",
       " 'sync',\n",
       " 'sync',\n",
       " 'sync',\n",
       " 'sync',\n",
       " 'sync',\n",
       " 'sync',\n",
       " 'sync',\n",
       " 'sync',\n",
       " 'sync',\n",
       " 'sync',\n",
       " 'sync',\n",
       " 'sync']"
      ]
     },
     "execution_count": 62,
     "metadata": {},
     "output_type": "execute_result"
    }
   ],
   "source": [
    "states"
   ]
  },
  {
   "cell_type": "code",
   "execution_count": null,
   "id": "d825304b",
   "metadata": {},
   "outputs": [],
   "source": [
    "plt.hist(states)"
   ]
  },
  {
   "cell_type": "markdown",
   "id": "6743f939",
   "metadata": {},
   "source": [
    "## Loop over k2"
   ]
  },
  {
   "cell_type": "code",
   "execution_count": 142,
   "id": "db4441b4",
   "metadata": {},
   "outputs": [
    {
     "data": {
      "image/png": "[encoded data removed]",
      "text/plain": [
       "<Figure size 100x100 with 1 Axes>"
      ]
     },
     "metadata": {},
     "output_type": "display_data"
    },
    {
     "data": {
      "text/plain": [
       "<matplotlib.colorbar.Colorbar at 0x3818f5bb0>"
      ]
     },
     "execution_count": 142,
     "metadata": {},
     "output_type": "execute_result"
    },
    {
     "data": {
      "image/png": "[encoded data removed]",
      "text/plain": [
       "<Figure size 200x200 with 2 Axes>"
      ]
     },
     "metadata": {},
     "output_type": "display_data"
    }
   ],
   "source": [
    "# Set parameters\n",
    "\n",
    "# dynamical\n",
    "k1 = 1  # pairwise coupling strength\n",
    "k2 = 0  # triplet coupling strength\n",
    "omega = 1 * np.ones(N)  # np.random.normal(size=N) #1 * np.ones(N)\n",
    "\n",
    "ic = \"random\"  # initial condition type, see below\n",
    "noise = 1e-1  # noise strength\n",
    "p2 = None\n",
    "\n",
    "\n",
    "psi_init = generate_state(N, kind=ic, q=2, noise=noise)\n",
    "\n",
    "# integration\n",
    "t_end = 200\n",
    "dt = 0.01\n",
    "times = np.arange(0, t_end + dt / 2, dt)\n",
    "\n",
    "tag_params = f\"k1_{k1}_k2_{k2}_ic_{ic}\"\n",
    "\n",
    "fig, ax = plt.subplots(figsize=(1, 1))\n",
    "plot_phases(psi_init, it=None, ax=ax)\n",
    "plt.show()\n",
    "\n",
    "# only to viz twisted states\n",
    "fig, ax = plt.subplots(figsize=(2, 2))\n",
    "ax, im = xgi.draw(\n",
    "    H, pos=pos, node_fc=psi_init % (2 * np.pi), node_fc_cmap=\"twilight\", node_size=1\n",
    ")\n",
    "plt.colorbar(im, label=\"phase value\")"
   ]
  },
  {
   "cell_type": "code",
   "execution_count": 171,
   "id": "a72e26d8",
   "metadata": {},
   "outputs": [
    {
     "name": "stderr",
     "output_type": "stream",
     "text": [
      "100%|█████████████████████████████████████████| 100/100 [01:08<00:00,  1.47it/s]\n",
      "100%|█████████████████████████████████████████| 100/100 [01:08<00:00,  1.47it/s]\n",
      "100%|█████████████████████████████████████████| 100/100 [01:08<00:00,  1.46it/s]\n",
      "100%|█████████████████████████████████████████| 100/100 [01:08<00:00,  1.46it/s]\n",
      "100%|█████████████████████████████████████████| 100/100 [01:08<00:00,  1.46it/s]\n",
      "100%|█████████████████████████████████████████| 100/100 [01:08<00:00,  1.45it/s]\n"
     ]
    }
   ],
   "source": [
    "n_reps = 100\n",
    "\n",
    "k2s = [0, 0.5, 1, 1.5, 2, 2.5]\n",
    "\n",
    "# simulate\n",
    "# kwargs = {\n",
    "#    \"links\": links,\n",
    "#    \"triangles\": triangles,\n",
    "#    \"k1_avg\": k1_avg,\n",
    "#    \"k2_avg\": k2_avg,\n",
    "# }\n",
    "\n",
    "thetas_arr = np.zeros((n_reps, len(k2s), N, len(times)))\n",
    "\n",
    "for j, k2 in enumerate (k2s):\n",
    "    \n",
    "    for i in tqdm(range(n_reps)):\n",
    "        psi_init = generate_state(N, kind=\"random\", noise=noise)\n",
    "\n",
    "        thetas, times = simulate_kuramoto(\n",
    "            H,\n",
    "            k1,\n",
    "            k2,\n",
    "            omega=omega,\n",
    "            theta_0=psi_init,\n",
    "            t_end=t_end,\n",
    "            dt=dt,\n",
    "            rhs=rhs_pairwise_triplet_all_asym, # rhs_pairwise_all  #rhs_triplet_all_asym\n",
    "            # **kwargs\n",
    "        )\n",
    "\n",
    "        thetas_arr[i, j] = thetas"
   ]
  },
  {
   "cell_type": "code",
   "execution_count": 172,
   "id": "c9d31c8f",
   "metadata": {},
   "outputs": [
    {
     "name": "stderr",
     "output_type": "stream",
     "text": [
      "100%|█████████████████████████████████████████████| 6/6 [00:22<00:00,  3.74s/it]\n"
     ]
    }
   ],
   "source": [
    "results = {}\n",
    "\n",
    "for j, k2 in enumerate(tqdm(k2s)): \n",
    "    states = [identify_state(thetas, atol=0.5) for thetas in thetas_arr[:,j]]\n",
    "    states_unique, counts = np.unique(states, return_counts=True)\n",
    "    probs = counts / n_reps\n",
    "    \n",
    "    results[k2] = {}\n",
    "    for state, prob in zip(states_unique, probs):\n",
    "        results[k2][state] = prob"
   ]
  },
  {
   "cell_type": "code",
   "execution_count": 173,
   "id": "195dc429",
   "metadata": {},
   "outputs": [
    {
     "data": {
      "text/plain": [
       "{0: {'sync': 1.0},\n",
       " 0.5: {'sync': 1.0},\n",
       " 1: {'sync': 1.0},\n",
       " 1.5: {'sync': 1.0},\n",
       " 2: {'sync': 1.0},\n",
       " 2.5: {'sync': 1.0}}"
      ]
     },
     "execution_count": 173,
     "metadata": {},
     "output_type": "execute_result"
    }
   ],
   "source": [
    "results"
   ]
  },
  {
   "cell_type": "code",
   "execution_count": 174,
   "id": "a83a31c6",
   "metadata": {},
   "outputs": [],
   "source": [
    "import pandas as pd"
   ]
  },
  {
   "cell_type": "code",
   "execution_count": 175,
   "id": "87dabb52",
   "metadata": {},
   "outputs": [
    {
     "data": {
      "text/html": [
       "<div>\n",
       "<style scoped>\n",
       "    .dataframe tbody tr th:only-of-type {\n",
       "        vertical-align: middle;\n",
       "    }\n",
       "\n",
       "    .dataframe tbody tr th {\n",
       "        vertical-align: top;\n",
       "    }\n",
       "\n",
       "    .dataframe thead th {\n",
       "        text-align: right;\n",
       "    }\n",
       "</style>\n",
       "<table border=\"1\" class=\"dataframe\">\n",
       "  <thead>\n",
       "    <tr style=\"text-align: right;\">\n",
       "      <th></th>\n",
       "      <th>k2</th>\n",
       "      <th>sync</th>\n",
       "    </tr>\n",
       "  </thead>\n",
       "  <tbody>\n",
       "    <tr>\n",
       "      <th>0</th>\n",
       "      <td>0.0</td>\n",
       "      <td>1.0</td>\n",
       "    </tr>\n",
       "    <tr>\n",
       "      <th>1</th>\n",
       "      <td>0.5</td>\n",
       "      <td>1.0</td>\n",
       "    </tr>\n",
       "    <tr>\n",
       "      <th>2</th>\n",
       "      <td>1.0</td>\n",
       "      <td>1.0</td>\n",
       "    </tr>\n",
       "    <tr>\n",
       "      <th>3</th>\n",
       "      <td>1.5</td>\n",
       "      <td>1.0</td>\n",
       "    </tr>\n",
       "    <tr>\n",
       "      <th>4</th>\n",
       "      <td>2.0</td>\n",
       "      <td>1.0</td>\n",
       "    </tr>\n",
       "    <tr>\n",
       "      <th>5</th>\n",
       "      <td>2.5</td>\n",
       "      <td>1.0</td>\n",
       "    </tr>\n",
       "  </tbody>\n",
       "</table>\n",
       "</div>"
      ],
      "text/plain": [
       "    k2  sync\n",
       "0  0.0   1.0\n",
       "1  0.5   1.0\n",
       "2  1.0   1.0\n",
       "3  1.5   1.0\n",
       "4  2.0   1.0\n",
       "5  2.5   1.0"
      ]
     },
     "execution_count": 175,
     "metadata": {},
     "output_type": "execute_result"
    }
   ],
   "source": [
    "df = pd.DataFrame.from_dict(results, orient=\"index\").reset_index(names=\"k2\")\n",
    "df"
   ]
  },
  {
   "cell_type": "code",
   "execution_count": 176,
   "id": "35bb1a62",
   "metadata": {},
   "outputs": [
    {
     "data": {
      "text/html": [
       "<div>\n",
       "<style scoped>\n",
       "    .dataframe tbody tr th:only-of-type {\n",
       "        vertical-align: middle;\n",
       "    }\n",
       "\n",
       "    .dataframe tbody tr th {\n",
       "        vertical-align: top;\n",
       "    }\n",
       "\n",
       "    .dataframe thead th {\n",
       "        text-align: right;\n",
       "    }\n",
       "</style>\n",
       "<table border=\"1\" class=\"dataframe\">\n",
       "  <thead>\n",
       "    <tr style=\"text-align: right;\">\n",
       "      <th></th>\n",
       "      <th>k2</th>\n",
       "      <th>state</th>\n",
       "      <th>proba</th>\n",
       "    </tr>\n",
       "  </thead>\n",
       "  <tbody>\n",
       "    <tr>\n",
       "      <th>0</th>\n",
       "      <td>0.0</td>\n",
       "      <td>sync</td>\n",
       "      <td>1.0</td>\n",
       "    </tr>\n",
       "    <tr>\n",
       "      <th>1</th>\n",
       "      <td>0.5</td>\n",
       "      <td>sync</td>\n",
       "      <td>1.0</td>\n",
       "    </tr>\n",
       "    <tr>\n",
       "      <th>2</th>\n",
       "      <td>1.0</td>\n",
       "      <td>sync</td>\n",
       "      <td>1.0</td>\n",
       "    </tr>\n",
       "    <tr>\n",
       "      <th>3</th>\n",
       "      <td>1.5</td>\n",
       "      <td>sync</td>\n",
       "      <td>1.0</td>\n",
       "    </tr>\n",
       "    <tr>\n",
       "      <th>4</th>\n",
       "      <td>2.0</td>\n",
       "      <td>sync</td>\n",
       "      <td>1.0</td>\n",
       "    </tr>\n",
       "    <tr>\n",
       "      <th>5</th>\n",
       "      <td>2.5</td>\n",
       "      <td>sync</td>\n",
       "      <td>1.0</td>\n",
       "    </tr>\n",
       "  </tbody>\n",
       "</table>\n",
       "</div>"
      ],
      "text/plain": [
       "    k2 state  proba\n",
       "0  0.0  sync    1.0\n",
       "1  0.5  sync    1.0\n",
       "2  1.0  sync    1.0\n",
       "3  1.5  sync    1.0\n",
       "4  2.0  sync    1.0\n",
       "5  2.5  sync    1.0"
      ]
     },
     "execution_count": 176,
     "metadata": {},
     "output_type": "execute_result"
    }
   ],
   "source": [
    "df_long = df.melt(id_vars=\"k2\", var_name=\"state\", value_name=\"proba\")\n",
    "df_long"
   ]
  },
  {
   "cell_type": "code",
   "execution_count": 178,
   "id": "4d84a89f",
   "metadata": {},
   "outputs": [
    {
     "data": {
      "image/png": "[encoded data removed]",
      "text/plain": [
       "<Figure size 340x240 with 1 Axes>"
      ]
     },
     "metadata": {},
     "output_type": "display_data"
    }
   ],
   "source": [
    "fig, ax = plt.subplots(figsize=(3.4, 2.4))\n",
    "g = sb.lineplot(\n",
    "    data=df_long,\n",
    "    x=\"k2\",\n",
    "    y=\"proba\",\n",
    "    hue=\"state\",\n",
    "    markers=True,\n",
    "    ax=ax,\n",
    "    alpha=0.7,\n",
    "    style=\"state\",\n",
    "    hue_order=[\"sync\", \"2-cluster\", \"other\"]\n",
    ")\n",
    "\n",
    "g.set(yscale=\"log\")\n",
    "\n",
    "ax.set_xlabel(\"k2, triplet coupling strength\")\n",
    "\n",
    "title = f\"all-to-all, {ic} ic, {n_reps} reps \\n rhs_pairwise_triplet_all_asym\"\n",
    "ax.set_title(title)\n",
    "\n",
    "\n",
    "sb.despine()\n",
    "ax.set_ylim(ymax=1.1)\n",
    "\n",
    "fig_name = f\"basin_size_a2a_ic_{ic}_nreps_{n_reps}_rhs_pairwise_triplet_all_asym\"\n",
    "\n",
    "plt.savefig(f\"{results_dir}{fig_name}.png\", dpi=300, bbox_inches=\"tight\")"
   ]
  },
  {
   "cell_type": "code",
   "execution_count": 151,
   "id": "0fdedf8d",
   "metadata": {},
   "outputs": [
    {
     "data": {
      "image/png": "[encoded data removed]",
      "text/plain": [
       "<Figure size 400x200 with 4 Axes>"
      ]
     },
     "metadata": {},
     "output_type": "display_data"
    }
   ],
   "source": [
    "# plot the last repetition\n",
    "i = 2\n",
    "j = 0\n",
    "fig, axs = plot_sync(thetas_arr[i, j], times)\n",
    "\n",
    "axs[0, 1].set_title(f\"$t={times[0]}$s\", fontsize=\"x-small\")\n",
    "axs[1, 1].set_title(f\"$t={times[-1]}$s\", fontsize=\"x-small\")\n",
    "\n",
    "axs[0, 0].set_xlabel(\"\")\n",
    "axs[1, 0].legend(loc=\"best\", fontsize=\"x-small\")\n",
    "\n",
    "plt.subplots_adjust(hspace=0.5, top=0.8)\n",
    "\n",
    "#fig.suptitle(tag_params, fontsize=\"small\")"
   ]
  }
 ],
 "metadata": {
  "kernelspec": {
   "display_name": "venv_xgi",
   "language": "python",
   "name": "venv_xgi"
  },
  "language_info": {
   "codemirror_mode": {
    "name": "ipython",
    "version": 3
   },
   "file_extension": ".py",
   "mimetype": "text/x-python",
   "name": "python",
   "nbconvert_exporter": "python",
   "pygments_lexer": "ipython3",
   "version": "3.9.13"
  },
  "toc": {
   "base_numbering": 1,
   "nav_menu": {},
   "number_sections": true,
   "sideBar": true,
   "skip_h1_title": false,
   "title_cell": "Table of Contents",
   "title_sidebar": "Contents",
   "toc_cell": false,
   "toc_position": {},
   "toc_section_display": true,
   "toc_window_display": true
  },
  "vscode": {
   "interpreter": {
    "hash": "78db47bee367e3fae825d59af43d695909ce208402094df58551906768c6e91c"
   }
  }
 },
 "nbformat": 4,
 "nbformat_minor": 5
}
