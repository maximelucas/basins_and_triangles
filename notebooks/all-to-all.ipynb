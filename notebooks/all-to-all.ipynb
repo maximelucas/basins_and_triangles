{
 "cells": [
  {
   "cell_type": "markdown",
   "id": "417f4911",
   "metadata": {},
   "source": [
    "# Explore basins and states: all-to-all"
   ]
  },
  {
   "cell_type": "code",
   "execution_count": 31,
   "id": "8da1197d",
   "metadata": {},
   "outputs": [],
   "source": [
    "import sys\n",
    "from pathlib import Path\n",
    "\n",
    "import matplotlib.pyplot as plt\n",
    "import numpy as np\n",
    "import seaborn as sb\n",
    "from tqdm import tqdm\n",
    "\n",
    "sys.path.append(\"../code/\")\n",
    "\n",
    "import xgi\n",
    "from kuramoto_hoi import *\n",
    "\n",
    "sb.set_theme(style=\"ticks\", context=\"notebook\")\n",
    "\n",
    "results_dir = \"results/\"\n",
    "data_dir = \"data/\"\n",
    "\n",
    "Path(results_dir).mkdir(parents=True, exist_ok=True)\n",
    "Path(data_dir).mkdir(parents=True, exist_ok=True)"
   ]
  },
  {
   "cell_type": "markdown",
   "id": "a12835c9",
   "metadata": {},
   "source": [
    "## Generate structure"
   ]
  },
  {
   "cell_type": "code",
   "execution_count": 2,
   "id": "dc4d9524",
   "metadata": {},
   "outputs": [],
   "source": [
    "N = 30\n",
    "\n",
    "H = xgi.complete_hypergraph(N, max_order=2)"
   ]
  },
  {
   "cell_type": "code",
   "execution_count": 3,
   "id": "83b37f97",
   "metadata": {},
   "outputs": [
    {
     "data": {
      "image/png": "[encoded data removed]",
      "text/plain": [
       "<Figure size 200x200 with 1 Axes>"
      ]
     },
     "metadata": {},
     "output_type": "display_data"
    }
   ],
   "source": [
    "fig, ax = plt.subplots(figsize=(2, 2))\n",
    "pos = xgi.circular_layout(H)\n",
    "\n",
    "xgi.draw(H, pos=pos, ax=ax)\n",
    "\n",
    "plt.show()"
   ]
  },
  {
   "cell_type": "code",
   "execution_count": 4,
   "id": "459e30bc",
   "metadata": {},
   "outputs": [],
   "source": [
    "# may be used in the simulation function\n",
    "links = H.edges.filterby(\"size\", 2).members()\n",
    "triangles = H.edges.filterby(\"size\", 3).members()\n",
    "adj1 = xgi.adjacency_matrix(H, order=1)\n",
    "adj2 = xgi.adjacency_matrix(H, order=2)\n",
    "k1_avg = H.nodes.degree(order=1).mean()\n",
    "k2_avg = H.nodes.degree(order=2).mean()"
   ]
  },
  {
   "cell_type": "markdown",
   "id": "c0b05b6b",
   "metadata": {},
   "source": [
    "## Dynamics"
   ]
  },
  {
   "cell_type": "code",
   "execution_count": 135,
   "id": "cd0bc1cd",
   "metadata": {},
   "outputs": [
    {
     "data": {
      "image/png": "[encoded data removed]",
      "text/plain": [
       "<Figure size 100x100 with 1 Axes>"
      ]
     },
     "metadata": {},
     "output_type": "display_data"
    },
    {
     "data": {
      "text/plain": [
       "<matplotlib.colorbar.Colorbar at 0x2c93b6d60>"
      ]
     },
     "execution_count": 135,
     "metadata": {},
     "output_type": "execute_result"
    },
    {
     "data": {
      "image/png": "[encoded data removed]",
      "text/plain": [
       "<Figure size 200x200 with 2 Axes>"
      ]
     },
     "metadata": {},
     "output_type": "display_data"
    }
   ],
   "source": [
    "# Set parameters\n",
    "\n",
    "# dynamical\n",
    "k1 = 1 # pairwise coupling strength\n",
    "k2 = 1 # triplet coupling strength\n",
    "omega = 1 * np.ones(N)  # np.random.normal(size=N) #1 * np.ones(N)\n",
    "\n",
    "ic = \"random\"  # initial condition type, see below\n",
    "noise = 1e-1  # noise strength\n",
    "p2 = None\n",
    "\n",
    "\n",
    "psi_init = generate_state(N, kind=ic, q=2, noise=noise)\n",
    "\n",
    "# integration\n",
    "t_end = 200\n",
    "dt = 0.01\n",
    "times = np.arange(0, t_end + dt / 2, dt)\n",
    "\n",
    "tag_params = f\"k1_{k1}_k2_{k2}_ic_{ic}\"\n",
    "\n",
    "fig, ax = plt.subplots(figsize=(1,1))\n",
    "plot_phases(psi_init, it=None, ax=ax)\n",
    "plt.show()\n",
    "\n",
    "# only to viz twisted states\n",
    "fig, ax = plt.subplots(figsize=(2,2))\n",
    "ax, im = xgi.draw(H, pos=pos, node_fc=psi_init % (2*np.pi), node_fc_cmap=\"twilight\", node_size=1)\n",
    "plt.colorbar(im, label=\"phase value\")"
   ]
  },
  {
   "cell_type": "code",
   "execution_count": 129,
   "id": "9e21f523",
   "metadata": {},
   "outputs": [],
   "source": [
    "def rhs_pairwise_triplet_all_sym(t, psi, omega, k1, k2):\n",
    "    \n",
    "    out = rhs_pairwise_all(t, psi, omega, k1, k2) + rhs_triplet_all_sym(t, psi, omega, k1, k2) - omega\n",
    "    \n",
    "    return out\n",
    "\n",
    "def rhs_pairwise_triplet_all_asym(t, psi, omega, k1, k2):\n",
    "    \n",
    "    out = rhs_pairwise_all(t, psi, omega, k1, k2) + rhs_triplet_all_asym(t, psi, omega, k1, k2) - omega\n",
    "    \n",
    "    return out"
   ]
  },
  {
   "cell_type": "code",
   "execution_count": 130,
   "id": "aff80cc7",
   "metadata": {},
   "outputs": [
    {
     "name": "stderr",
     "output_type": "stream",
     "text": [
      "100%|█████████████████████████████████████████| 100/100 [00:54<00:00,  1.82it/s]\n"
     ]
    }
   ],
   "source": [
    "n_reps = 100\n",
    "\n",
    "# simulate\n",
    "#kwargs = {\n",
    "#    \"links\": links,\n",
    "#    \"triangles\": triangles,\n",
    "#    \"k1_avg\": k1_avg,\n",
    "#    \"k2_avg\": k2_avg,\n",
    "#}\n",
    "\n",
    "thetas_arr = np.zeros((n_reps, N, len(times)))\n",
    "\n",
    "for i in tqdm(range(n_reps)):\n",
    "    \n",
    "    psi_init = generate_state(N, kind=\"random\", noise=noise)\n",
    "\n",
    "    thetas, times = simulate_kuramoto(\n",
    "        H,\n",
    "        k1,\n",
    "        k2,\n",
    "        omega=omega,\n",
    "        theta_0=psi_init,\n",
    "        t_end=t_end,\n",
    "        dt=dt,\n",
    "        rhs=rhs_pairwise_triplet_all_sym,\n",
    "        #**kwargs\n",
    "    )\n",
    "    \n",
    "    thetas_arr[i] = thetas\n"
   ]
  },
  {
   "cell_type": "code",
   "execution_count": 142,
   "id": "484715c3",
   "metadata": {},
   "outputs": [
    {
     "data": {
      "text/plain": [
       "Text(0.5, 0.98, 'k1_1_k2_1_ic_random')"
      ]
     },
     "execution_count": 142,
     "metadata": {},
     "output_type": "execute_result"
    },
    {
     "data": {
      "image/png": "[encoded data removed]",
      "text/plain": [
       "<Figure size 400x200 with 4 Axes>"
      ]
     },
     "metadata": {},
     "output_type": "display_data"
    }
   ],
   "source": [
    "# plot the last repetition\n",
    "i = 4\n",
    "fig, axs = plot_sync(thetas_arr[i], times)\n",
    "\n",
    "axs[0, 1].set_title(f\"$t={times[0]}$s\", fontsize=\"x-small\")\n",
    "axs[1, 1].set_title(f\"$t={times[-1]}$s\", fontsize=\"x-small\")\n",
    "\n",
    "axs[0, 0].set_xlabel(\"\")\n",
    "axs[1, 0].legend(loc=\"best\", fontsize=\"x-small\")\n",
    "\n",
    "plt.subplots_adjust(hspace=0.5, top=0.8)\n",
    "\n",
    "fig.suptitle(tag_params, fontsize=\"small\")"
   ]
  },
  {
   "cell_type": "code",
   "execution_count": 141,
   "id": "1258b01e",
   "metadata": {},
   "outputs": [
    {
     "data": {
      "text/plain": [
       "{'2-cluster', 'sync'}"
      ]
     },
     "execution_count": 141,
     "metadata": {},
     "output_type": "execute_result"
    }
   ],
   "source": [
    "states = [identify_state(thetas, atol=0.1) for thetas in thetas_arr]\n",
    "set(states)"
   ]
  },
  {
   "cell_type": "code",
   "execution_count": 133,
   "id": "e9e67f50",
   "metadata": {},
   "outputs": [
    {
     "data": {
      "text/plain": [
       "(array(['2-cluster', 'sync'], dtype='<U9'), array([79, 21]))"
      ]
     },
     "execution_count": 133,
     "metadata": {},
     "output_type": "execute_result"
    }
   ],
   "source": [
    "np.unique(states, return_counts=True)"
   ]
  },
  {
   "cell_type": "code",
   "execution_count": 134,
   "id": "b7598904",
   "metadata": {},
   "outputs": [
    {
     "data": {
      "text/plain": [
       "['sync',\n",
       " '2-cluster',\n",
       " 'sync',\n",
       " 'sync',\n",
       " 'sync',\n",
       " '2-cluster',\n",
       " 'sync',\n",
       " '2-cluster',\n",
       " '2-cluster',\n",
       " '2-cluster',\n",
       " '2-cluster',\n",
       " '2-cluster',\n",
       " '2-cluster',\n",
       " '2-cluster',\n",
       " '2-cluster',\n",
       " '2-cluster',\n",
       " '2-cluster',\n",
       " 'sync',\n",
       " 'sync',\n",
       " '2-cluster',\n",
       " '2-cluster',\n",
       " '2-cluster',\n",
       " 'sync',\n",
       " '2-cluster',\n",
       " 'sync',\n",
       " '2-cluster',\n",
       " '2-cluster',\n",
       " 'sync',\n",
       " '2-cluster',\n",
       " '2-cluster',\n",
       " '2-cluster',\n",
       " '2-cluster',\n",
       " '2-cluster',\n",
       " '2-cluster',\n",
       " '2-cluster',\n",
       " '2-cluster',\n",
       " '2-cluster',\n",
       " '2-cluster',\n",
       " '2-cluster',\n",
       " 'sync',\n",
       " '2-cluster',\n",
       " '2-cluster',\n",
       " 'sync',\n",
       " '2-cluster',\n",
       " '2-cluster',\n",
       " '2-cluster',\n",
       " '2-cluster',\n",
       " '2-cluster',\n",
       " '2-cluster',\n",
       " '2-cluster',\n",
       " '2-cluster',\n",
       " 'sync',\n",
       " '2-cluster',\n",
       " '2-cluster',\n",
       " '2-cluster',\n",
       " '2-cluster',\n",
       " '2-cluster',\n",
       " 'sync',\n",
       " '2-cluster',\n",
       " '2-cluster',\n",
       " '2-cluster',\n",
       " '2-cluster',\n",
       " '2-cluster',\n",
       " '2-cluster',\n",
       " '2-cluster',\n",
       " '2-cluster',\n",
       " 'sync',\n",
       " '2-cluster',\n",
       " '2-cluster',\n",
       " '2-cluster',\n",
       " '2-cluster',\n",
       " '2-cluster',\n",
       " '2-cluster',\n",
       " '2-cluster',\n",
       " '2-cluster',\n",
       " '2-cluster',\n",
       " 'sync',\n",
       " '2-cluster',\n",
       " '2-cluster',\n",
       " 'sync',\n",
       " '2-cluster',\n",
       " '2-cluster',\n",
       " '2-cluster',\n",
       " '2-cluster',\n",
       " 'sync',\n",
       " 'sync',\n",
       " 'sync',\n",
       " '2-cluster',\n",
       " '2-cluster',\n",
       " '2-cluster',\n",
       " '2-cluster',\n",
       " '2-cluster',\n",
       " '2-cluster',\n",
       " '2-cluster',\n",
       " 'sync',\n",
       " '2-cluster',\n",
       " '2-cluster',\n",
       " '2-cluster',\n",
       " '2-cluster',\n",
       " '2-cluster']"
      ]
     },
     "execution_count": 134,
     "metadata": {},
     "output_type": "execute_result"
    }
   ],
   "source": [
    "states"
   ]
  },
  {
   "cell_type": "code",
   "execution_count": null,
   "id": "5eab13b2",
   "metadata": {},
   "outputs": [],
   "source": []
  },
  {
   "cell_type": "code",
   "execution_count": null,
   "id": "fb363d74",
   "metadata": {},
   "outputs": [],
   "source": []
  },
  {
   "cell_type": "code",
   "execution_count": 161,
   "id": "646dc359",
   "metadata": {},
   "outputs": [
    {
     "data": {
      "text/plain": [
       "array([-3.14159265, -3.14159265,  6.28318531,  0.        , -6.28318531,\n",
       "        6.28318531,  0.        ,  0.        ,  0.        , -6.28318531,\n",
       "        0.        ,  0.        ,  0.        ,  6.28318531,  0.        ,\n",
       "       -6.28318531,  6.28318531, -6.28318531,  6.28318531, -6.28318531,\n",
       "        6.28318531, -6.28318531,  6.28318531, -6.28318531,  6.28318531,\n",
       "        0.        , -6.28318531,  6.28318531, -6.28318531])"
      ]
     },
     "execution_count": 161,
     "metadata": {},
     "output_type": "execute_result"
    }
   ],
   "source": [
    "diff = np.diff(thetas_arr[4, :, -1])\n",
    "diff"
   ]
  },
  {
   "cell_type": "code",
   "execution_count": 162,
   "id": "abf2bff8",
   "metadata": {},
   "outputs": [
    {
     "data": {
      "text/plain": [
       "array([3.14159265e+00, 3.14159265e+00, 6.28318531e+00, 0.00000000e+00,\n",
       "       1.63424829e-13, 6.28318531e+00, 0.00000000e+00, 0.00000000e+00,\n",
       "       0.00000000e+00, 1.63424829e-13, 0.00000000e+00, 0.00000000e+00,\n",
       "       0.00000000e+00, 6.28318531e+00, 0.00000000e+00, 1.63424829e-13,\n",
       "       6.28318531e+00, 1.63424829e-13, 6.28318531e+00, 1.63424829e-13,\n",
       "       6.28318531e+00, 1.63424829e-13, 6.28318531e+00, 1.63424829e-13,\n",
       "       6.28318531e+00, 0.00000000e+00, 1.63424829e-13, 6.28318531e+00,\n",
       "       1.63424829e-13])"
      ]
     },
     "execution_count": 162,
     "metadata": {},
     "output_type": "execute_result"
    }
   ],
   "source": [
    "diff % (2*np.pi)"
   ]
  },
  {
   "cell_type": "code",
   "execution_count": 165,
   "id": "374d9459",
   "metadata": {},
   "outputs": [
    {
     "data": {
      "text/plain": [
       "{0.0, 3.1416, 6.2832}"
      ]
     },
     "execution_count": 165,
     "metadata": {},
     "output_type": "execute_result"
    }
   ],
   "source": [
    "set(np.round(diff % (2*np.pi), 4)) "
   ]
  },
  {
   "cell_type": "code",
   "execution_count": 160,
   "id": "ec62f39a",
   "metadata": {},
   "outputs": [
    {
     "data": {
      "text/plain": [
       "6.283185307179586"
      ]
     },
     "execution_count": 160,
     "metadata": {},
     "output_type": "execute_result"
    }
   ],
   "source": [
    "n"
   ]
  }
 ],
 "metadata": {
  "kernelspec": {
   "display_name": "venv_xgi",
   "language": "python",
   "name": "venv_xgi"
  },
  "language_info": {
   "codemirror_mode": {
    "name": "ipython",
    "version": 3
   },
   "file_extension": ".py",
   "mimetype": "text/x-python",
   "name": "python",
   "nbconvert_exporter": "python",
   "pygments_lexer": "ipython3",
   "version": "3.9.13"
  },
  "toc": {
   "base_numbering": 1,
   "nav_menu": {},
   "number_sections": true,
   "sideBar": true,
   "skip_h1_title": false,
   "title_cell": "Table of Contents",
   "title_sidebar": "Contents",
   "toc_cell": false,
   "toc_position": {},
   "toc_section_display": true,
   "toc_window_display": true
  },
  "vscode": {
   "interpreter": {
    "hash": "78db47bee367e3fae825d59af43d695909ce208402094df58551906768c6e91c"
   }
  }
 },
 "nbformat": 4,
 "nbformat_minor": 5
}
