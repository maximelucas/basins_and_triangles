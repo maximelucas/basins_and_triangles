{
 "cells": [
  {
   "cell_type": "code",
   "execution_count": 1,
   "id": "6742f1f8",
   "metadata": {},
   "outputs": [],
   "source": [
    "import sys\n",
    "from itertools import combinations\n",
    "from math import sin\n",
    "from pathlib import Path\n",
    "\n",
    "import matplotlib.pyplot as plt\n",
    "import numpy as np\n",
    "import seaborn as sb\n",
    "from tqdm import tqdm\n",
    "\n",
    "sys.path.append(\"../code/\")\n",
    "\n",
    "import xgi\n",
    "from hypersync_integrate import *\n",
    "from hypersync_generate import *\n",
    "from hypersync_identify import *\n",
    "from hypersync_draw import *\n",
    "\n",
    "sb.set_theme(style=\"ticks\", context=\"notebook\")"
   ]
  },
  {
   "cell_type": "markdown",
   "id": "a1ed37b3",
   "metadata": {},
   "source": [
    "## Versions of rhs"
   ]
  },
  {
   "cell_type": "code",
   "execution_count": 2,
   "id": "e94ad652",
   "metadata": {},
   "outputs": [],
   "source": [
    "def rhs_yuanzhao(t, theta, N, K1, K2, sigma0, sigma, return_tris=False):\n",
    "    \"\"\"\n",
    "    RHS\n",
    "    \n",
    "    Parameters\n",
    "    ----------\n",
    "    sigma : float\n",
    "        Triplet coupling strength\n",
    "    K1, K2 : int\n",
    "        Pairwise and triplet nearest neighbour ranges\n",
    "    \"\"\"\n",
    "    dtheta_dt = np.zeros(N)\n",
    "\n",
    "    # pairwise coupling\n",
    "    for ii in range(N):\n",
    "        for jj in range(-K1,K1+1):\n",
    "            dtheta_dt[ii] +=  sigma0*np.sin(theta[(ii+jj)%N] - theta[ii])/K1\n",
    "    tris = []\n",
    "    # triadic coupling\n",
    "    idx = list(range(-K2,0)) + list(range(1,K2+1))\n",
    "    for ii in range(N):\n",
    "        for jj in idx:\n",
    "            for kk in idx:\n",
    "                if jj != kk:\n",
    "                    tris.append([ii, (ii+jj)%N, (ii+kk)%N])\n",
    "                    #print([ii, (ii+jj)%N, (ii+kk)%N])\n",
    "                    dtheta_dt[ii] +=  sigma*sin(theta[(ii+kk)%N] + theta[(ii+jj)%N] - 2*theta[ii])/(K2*(2.0*K2-1))\n",
    "    \n",
    "    #print(len(tris))\n",
    "    if return_tris:\n",
    "        return dtheta_dt, tris\n",
    "    else:\n",
    "        return dtheta_dt"
   ]
  },
  {
   "cell_type": "code",
   "execution_count": 3,
   "id": "c3153101",
   "metadata": {},
   "outputs": [],
   "source": [
    "def rhs_yuanzhao(t, theta, N, K1, K2, sigma0, sigma):\n",
    "    \"\"\"\n",
    "    RHS\n",
    "    \n",
    "    Parameters\n",
    "    ----------\n",
    "    sigma : float\n",
    "        Triplet coupling strength\n",
    "    K1, K2 : int\n",
    "        Pairwise and triplet nearest neighbour ranges\n",
    "    \"\"\"\n",
    "    dtheta_dt = np.zeros(N)\n",
    "\n",
    "    # pairwise coupling\n",
    "    for ii in range(N):\n",
    "        for jj in range(-K1,K1+1):\n",
    "            dtheta_dt[ii] +=  sigma0*np.sin(theta[(ii+jj)%N] - theta[ii])/K1\n",
    "    # triadic coupling\n",
    "    idx = list(range(-K2,0)) + list(range(1,K2+1))\n",
    "    for ii in range(N):\n",
    "        for jj in idx:\n",
    "            for kk in idx:\n",
    "                if jj != kk:\n",
    "                    #print([ii, (ii+jj)%N, (ii+kk)%N])\n",
    "                    dtheta_dt[ii] +=  sigma*sin(theta[(ii+kk)%N] + theta[(ii+jj)%N] - 2*theta[ii])/(K2*(2.0*K2-1))\n",
    "    \n",
    "    return dtheta_dt"
   ]
  },
  {
   "cell_type": "code",
   "execution_count": 4,
   "id": "c9575e3d",
   "metadata": {},
   "outputs": [],
   "source": [
    "from math import sin\n",
    "\n",
    "\n",
    "def rhs_oneloop(t, theta, N, K1, K2, sigma0, sigma):\n",
    "    \"\"\"\n",
    "    RHS\n",
    "\n",
    "    Parameters\n",
    "    ----------\n",
    "    sigma : float\n",
    "        Triplet coupling strength\n",
    "    K1, K2 : int\n",
    "        Pairwise and triplet nearest neighbour ranges\n",
    "    \"\"\"\n",
    "\n",
    "    pairwise = np.zeros(N)\n",
    "    triplets = np.zeros(N)\n",
    "\n",
    "    # triadic coupling\n",
    "    idx_2 = list(range(-K2, 0)) + list(range(1, K2 + 1))\n",
    "    idx_1 = range(-K1, K1 + 1)\n",
    "\n",
    "    for ii in range(N):\n",
    "\n",
    "        for jj in idx_1:  # pairwise\n",
    "            jjj = (ii + jj) % N\n",
    "            pairwise[ii] += sin(theta[jjj] - theta[ii])\n",
    "\n",
    "        for jj in idx_2:  # triplet\n",
    "            for kk in idx_2:\n",
    "                if jj < kk: # because coupling function is symmetric in j and k\n",
    "                    jjj = (ii + jj) % N\n",
    "                    kkk = (ii + kk) % N\n",
    "                    triplets[ii] += 2 * sin(theta[kkk] + theta[jjj] - 2 * theta[ii]) # x2 to count triangles in both directions\n",
    "\n",
    "    return (sigma0 / K1) * pairwise + sigma / (K2 * (2 * K2 - 1)) * triplets"
   ]
  },
  {
   "cell_type": "code",
   "execution_count": 5,
   "id": "d7d23a79",
   "metadata": {},
   "outputs": [],
   "source": [
    "from numba import jit\n",
    "\n",
    "@jit(nopython=True)\n",
    "def rhs_oneloop_nb(t, theta, omega, sigma0, sigma, K1, K2):\n",
    "    \"\"\"\n",
    "    RHS\n",
    "\n",
    "    Parameters\n",
    "    ----------\n",
    "    sigma : float\n",
    "        Triplet coupling strength\n",
    "    K1, K2 : int\n",
    "        Pairwise and triplet nearest neighbour ranges\n",
    "    \"\"\"\n",
    "    \n",
    "    N = len(theta)\n",
    "\n",
    "    pairwise = np.zeros(N)\n",
    "    triplets = np.zeros(N)\n",
    "\n",
    "    # triadic coupling\n",
    "    idx_2 = list(range(-K2, 0)) + list(range(1, K2 + 1))\n",
    "    idx_1 = range(-K1, K1 + 1)\n",
    "\n",
    "    for ii in range(N):\n",
    "\n",
    "        for jj in idx_1:  # pairwise\n",
    "            jjj = (ii + jj) % N\n",
    "            pairwise[ii] += sin(theta[jjj] - theta[ii])\n",
    "\n",
    "        for jj in idx_2:  # triplet\n",
    "            for kk in idx_2:\n",
    "                if jj < kk:\n",
    "                    jjj = (ii + jj) % N\n",
    "                    kkk = (ii + kk) % N\n",
    "                    triplets[ii] += 2 * sin(theta[kkk] + theta[jjj] - 2 * theta[ii])\n",
    "\n",
    "    return (sigma0 / K1) * pairwise + sigma / (K2 * (2 * K2 - 1)) * triplets"
   ]
  },
  {
   "cell_type": "code",
   "execution_count": 6,
   "id": "ea559857",
   "metadata": {},
   "outputs": [],
   "source": [
    "# dynamical parameters\n",
    "omega = 0 #1 * np.ones(N)  # np.random.normal(size=N) #1 * np.ones(N)\n",
    "t = 0"
   ]
  },
  {
   "cell_type": "code",
   "execution_count": 7,
   "id": "9c8f82bc",
   "metadata": {},
   "outputs": [],
   "source": [
    "N = 100\n",
    "\n",
    "r1 = 2\n",
    "r2 = 2\n",
    "K1 = r1\n",
    "K2 = r2"
   ]
  },
  {
   "cell_type": "code",
   "execution_count": 8,
   "id": "08c3a95c",
   "metadata": {},
   "outputs": [],
   "source": [
    "k1 = 1  #pairwise coupling strength\n",
    "k2 = 1  # triplet coupling strength\n",
    "sigma0 = k1\n",
    "sigma = k2"
   ]
  },
  {
   "cell_type": "code",
   "execution_count": 133,
   "id": "bbdcaa45",
   "metadata": {},
   "outputs": [],
   "source": [
    "psi = generate_state(N=N, kind=\"random\", noise=0) # random state"
   ]
  },
  {
   "cell_type": "markdown",
   "id": "e0bf16a1",
   "metadata": {},
   "source": [
    "### Correctness"
   ]
  },
  {
   "cell_type": "code",
   "execution_count": 134,
   "id": "5a29fb02",
   "metadata": {},
   "outputs": [],
   "source": [
    "xx = rhs_yuanzhao(t, psi, N, K1, K2, sigma0, sigma)"
   ]
  },
  {
   "cell_type": "code",
   "execution_count": 135,
   "id": "e3398883",
   "metadata": {},
   "outputs": [],
   "source": [
    "yy = rhs_oneloop(t, psi, N, K1, K2, sigma0, sigma)"
   ]
  },
  {
   "cell_type": "code",
   "execution_count": 136,
   "id": "b0e3848d",
   "metadata": {},
   "outputs": [],
   "source": [
    "zz = rhs_oneloop_nb(t, psi, omega, sigma0, sigma, K1, K2)"
   ]
  },
  {
   "cell_type": "code",
   "execution_count": 137,
   "id": "3595624e",
   "metadata": {},
   "outputs": [
    {
     "data": {
      "text/plain": [
       "True"
      ]
     },
     "execution_count": 137,
     "metadata": {},
     "output_type": "execute_result"
    }
   ],
   "source": [
    "np.allclose(xx, yy)"
   ]
  },
  {
   "cell_type": "code",
   "execution_count": 138,
   "id": "efa9e603",
   "metadata": {},
   "outputs": [
    {
     "data": {
      "text/plain": [
       "True"
      ]
     },
     "execution_count": 138,
     "metadata": {},
     "output_type": "execute_result"
    }
   ],
   "source": [
    "np.allclose(xx, zz)"
   ]
  },
  {
   "cell_type": "markdown",
   "id": "9d34f612",
   "metadata": {},
   "source": [
    "### Speed for one iteration"
   ]
  },
  {
   "cell_type": "code",
   "execution_count": 139,
   "id": "d2f7926c",
   "metadata": {},
   "outputs": [
    {
     "name": "stdout",
     "output_type": "stream",
     "text": [
      "966 µs ± 4.3 µs per loop (mean ± std. dev. of 7 runs, 1,000 loops each)\n"
     ]
    }
   ],
   "source": [
    "%timeit rhs_yuanzhao(t, psi, N, K1, K2, sigma0, sigma)"
   ]
  },
  {
   "cell_type": "code",
   "execution_count": 140,
   "id": "3c27ff83",
   "metadata": {},
   "outputs": [
    {
     "name": "stdout",
     "output_type": "stream",
     "text": [
      "431 µs ± 2.11 µs per loop (mean ± std. dev. of 7 runs, 1,000 loops each)\n"
     ]
    }
   ],
   "source": [
    "%timeit rhs_oneloop(t, psi, N, K1, K2, sigma0, sigma)"
   ]
  },
  {
   "cell_type": "code",
   "execution_count": 141,
   "id": "fb9e9d47",
   "metadata": {},
   "outputs": [
    {
     "name": "stdout",
     "output_type": "stream",
     "text": [
      "5.8 µs ± 3.84 ns per loop (mean ± std. dev. of 7 runs, 100,000 loops each)\n"
     ]
    }
   ],
   "source": [
    "%timeit rhs_oneloop_nb(t, psi, N, K1, K2, sigma0, sigma)"
   ]
  },
  {
   "cell_type": "markdown",
   "id": "32156248",
   "metadata": {},
   "source": [
    "### Speed for full integration"
   ]
  },
  {
   "cell_type": "code",
   "execution_count": 228,
   "id": "8a658300",
   "metadata": {},
   "outputs": [],
   "source": [
    "args = (K1, K2)\n",
    "psi = generate_state(N=N, kind=\"random\", noise=0) # random state"
   ]
  },
  {
   "cell_type": "code",
   "execution_count": 621,
   "id": "15761c03",
   "metadata": {},
   "outputs": [],
   "source": [
    "t_end = 1000\n",
    "dt = 0.001"
   ]
  },
  {
   "cell_type": "code",
   "execution_count": 627,
   "id": "abc78daa",
   "metadata": {},
   "outputs": [
    {
     "name": "stdout",
     "output_type": "stream",
     "text": [
      "10.8 s ± 70.7 ms per loop (mean ± std. dev. of 7 runs, 1 loop each)\n"
     ]
    }
   ],
   "source": [
    "%%timeit \n",
    "\n",
    "thetas, times = simulate_kuramoto(\n",
    "    xgi.trivial_hypergraph(n=N),\n",
    "    k1,\n",
    "    k2,\n",
    "    omega=omega,\n",
    "    theta_0=psi,\n",
    "    t_end=t_end,\n",
    "    dt=dt,\n",
    "    rhs=rhs_oneloop_nb,  # rhs_pairwise_all\n",
    "    integrator=\"explicit_euler\",\n",
    "    args=args,\n",
    ")"
   ]
  },
  {
   "cell_type": "code",
   "execution_count": 628,
   "id": "f32ae2e6",
   "metadata": {},
   "outputs": [
    {
     "data": {
      "text/plain": [
       "(1000001,)"
      ]
     },
     "execution_count": 628,
     "metadata": {},
     "output_type": "execute_result"
    }
   ],
   "source": [
    "times.shape"
   ]
  },
  {
   "cell_type": "code",
   "execution_count": 629,
   "id": "3ffd8c36",
   "metadata": {},
   "outputs": [],
   "source": [
    "from scipy.integrate import solve_ivp"
   ]
  },
  {
   "cell_type": "code",
   "execution_count": 650,
   "id": "123a2a2c",
   "metadata": {},
   "outputs": [
    {
     "name": "stdout",
     "output_type": "stream",
     "text": [
      "615 ms ± 11.8 ms per loop (mean ± std. dev. of 7 runs, 1 loop each)\n"
     ]
    }
   ],
   "source": [
    "%%timeit\n",
    "\n",
    "solx = solve_ivp(\n",
    "    fun=rhs_oneloop_nb,\n",
    "    t_span=[0, t_end],\n",
    "    y0=psi,\n",
    "    t_eval=np.arange(0, t_end + dt / 2, dt),\n",
    "    args=(omega, sigma0, sigma, K1, K2),\n",
    "    atol=1e-8,\n",
    "    rtol=1e-8\n",
    ")"
   ]
  },
  {
   "cell_type": "code",
   "execution_count": 649,
   "id": "5de8bd0c",
   "metadata": {},
   "outputs": [
    {
     "data": {
      "text/plain": [
       "<matplotlib.legend.Legend at 0x293ed59a0>"
      ]
     },
     "execution_count": 649,
     "metadata": {},
     "output_type": "execute_result"
    },
    {
     "data": {
      "image/png": "[encoded data removed]",
      "text/plain": [
       "<Figure size 640x480 with 1 Axes>"
      ]
     },
     "metadata": {},
     "output_type": "display_data"
    }
   ],
   "source": [
    "tt = -1\n",
    "\n",
    "#plt.plot(psi,  \"+\", label=\"initial\")\n",
    "\n",
    "plt.plot(thetas[:,tt],  \"o\", label=\"my_euler\")\n",
    "\n",
    "plt.plot(solx.y[:,tt], \"x\", label=\"solve_ivp\", alpha=0.9)\n",
    "\n",
    "plt.legend()"
   ]
  },
  {
   "cell_type": "code",
   "execution_count": 641,
   "id": "bf5f544b",
   "metadata": {},
   "outputs": [
    {
     "data": {
      "text/plain": [
       "True"
      ]
     },
     "execution_count": 641,
     "metadata": {},
     "output_type": "execute_result"
    }
   ],
   "source": [
    "np.allclose(thetas[:,-1], solx.y[:,-1], atol=1e-2)"
   ]
  },
  {
   "cell_type": "code",
   "execution_count": 642,
   "id": "bd951f42",
   "metadata": {},
   "outputs": [
    {
     "data": {
      "text/plain": [
       "[<matplotlib.lines.Line2D at 0x2d9f7d3a0>]"
      ]
     },
     "execution_count": 642,
     "metadata": {},
     "output_type": "execute_result"
    },
    {
     "data": {
      "image/png": "[encoded data removed]",
      "text/plain": [
       "<Figure size 640x480 with 1 Axes>"
      ]
     },
     "metadata": {},
     "output_type": "display_data"
    }
   ],
   "source": [
    "plt.plot(thetas[:,-1] - solx.y[:,-1])"
   ]
  },
  {
   "cell_type": "code",
   "execution_count": 643,
   "id": "e75e6ffe",
   "metadata": {},
   "outputs": [
    {
     "data": {
      "text/plain": [
       "[<matplotlib.lines.Line2D at 0x2dfa1d670>]"
      ]
     },
     "execution_count": 643,
     "metadata": {},
     "output_type": "execute_result"
    },
    {
     "data": {
      "image/png": "[encoded data removed]",
      "text/plain": [
       "<Figure size 640x480 with 1 Axes>"
      ]
     },
     "metadata": {},
     "output_type": "display_data"
    }
   ],
   "source": [
    "plt.plot(np.diff(solx.t))"
   ]
  },
  {
   "cell_type": "code",
   "execution_count": null,
   "id": "b7b66ea9",
   "metadata": {},
   "outputs": [],
   "source": []
  },
  {
   "cell_type": "code",
   "execution_count": 644,
   "id": "b770e5cc",
   "metadata": {},
   "outputs": [
    {
     "data": {
      "text/plain": [
       "(100, 2819)"
      ]
     },
     "execution_count": 644,
     "metadata": {},
     "output_type": "execute_result"
    }
   ],
   "source": [
    "solx.y.shape"
   ]
  },
  {
   "cell_type": "code",
   "execution_count": 636,
   "id": "a993aea1",
   "metadata": {},
   "outputs": [
    {
     "data": {
      "text/plain": [
       "(100, 1000001)"
      ]
     },
     "execution_count": 636,
     "metadata": {},
     "output_type": "execute_result"
    }
   ],
   "source": [
    "thetas.shape"
   ]
  },
  {
   "cell_type": "code",
   "execution_count": null,
   "id": "acde6a5a",
   "metadata": {},
   "outputs": [],
   "source": []
  },
  {
   "cell_type": "code",
   "execution_count": 589,
   "id": "5d4121b0",
   "metadata": {},
   "outputs": [
    {
     "data": {
      "text/plain": [
       "array([394.61683209, 413.95943911, 433.33608923, 452.74924699,\n",
       "       472.2007446 , 491.692933  , 511.22794035, 530.80817123,\n",
       "       550.43599205, 570.11401006, 589.84474902, 609.63136596,\n",
       "       629.47498859, 649.38133612, 669.35206406, 689.39116363,\n",
       "       709.50214517, 729.6889705 , 749.95589641, 770.30754036,\n",
       "       790.74902387, 811.28601366, 831.92483647, 852.67291779,\n",
       "       873.53848264, 894.5317641 , 915.6654383 , 936.9535432 ,\n",
       "       958.42337186, 980.08357771, 974.38769675, 952.74088816,\n",
       "       931.30025392, 910.03549776, 888.9172998 , 867.94732583,\n",
       "       847.08600772, 826.34913236, 805.71859146, 785.18959043,\n",
       "       764.75463436, 744.409441  , 724.14712727, 703.96424736,\n",
       "       683.85697828, 663.82065949, 643.85219363, 623.9480296 ,\n",
       "       604.10500553, 584.32022307, 564.59054117, 544.91378027,\n",
       "       525.28659877, 505.70704427, 486.17253188, 466.680803  ,\n",
       "       447.22960997, 427.81683899, 408.44029937, 389.09845806,\n",
       "       369.78785052, 350.50869557, 331.25733322, 312.03305106,\n",
       "       292.83370047, 273.65762915, 254.5031264 , 235.36856595,\n",
       "       216.25231275, 197.15285508, 178.06850505, 158.99779163,\n",
       "       139.93930043, 120.89144445, 101.85294528,  82.82204601,\n",
       "        63.79792042,  44.77837538,  25.76319465,   6.75446878,\n",
       "        12.27023976,  31.28182768,  50.29740742,  69.31672185,\n",
       "        88.34142287, 107.37186413, 126.41106086, 145.45846408,\n",
       "       164.51697767, 183.58751922, 202.67216384, 221.77108324,\n",
       "       240.88759017, 260.02186556, 279.1763506 , 298.35237786,\n",
       "       317.55174038, 336.77601496, 356.02710516, 375.3067984 ])"
      ]
     },
     "execution_count": 589,
     "metadata": {},
     "output_type": "execute_result"
    }
   ],
   "source": [
    "np.linalg.norm(thetas - solx.y, axis=1)"
   ]
  },
  {
   "cell_type": "code",
   "execution_count": null,
   "id": "fa7c0b68",
   "metadata": {},
   "outputs": [],
   "source": []
  },
  {
   "cell_type": "code",
   "execution_count": null,
   "id": "78ba393c",
   "metadata": {},
   "outputs": [],
   "source": []
  },
  {
   "cell_type": "code",
   "execution_count": null,
   "id": "b352d8cd",
   "metadata": {},
   "outputs": [],
   "source": []
  },
  {
   "cell_type": "code",
   "execution_count": 587,
   "id": "d1f04913",
   "metadata": {},
   "outputs": [
    {
     "data": {
      "text/plain": [
       "  message: 'The solver successfully reached the end of the integration interval.'\n",
       "     nfev: 20750\n",
       "     njev: 0\n",
       "      nlu: 0\n",
       "      sol: None\n",
       "   status: 0\n",
       "  success: True\n",
       "        t: array([0.0000e+00, 1.0000e-02, 2.0000e-02, ..., 9.9998e+02, 9.9999e+02,\n",
       "       1.0000e+03])\n",
       " t_events: None\n",
       "        y: array([[ 0.71722941,  0.71826084,  0.71926998, ...,  5.91783097,\n",
       "         5.91783097,  5.91783097],\n",
       "       [ 4.69287319,  4.69492447,  4.69693378, ..., 12.13818443,\n",
       "        12.13818443, 12.13818443],\n",
       "       [ 5.90884926,  5.89870151,  5.88869398, ..., 12.07535255,\n",
       "        12.07535255, 12.07535255],\n",
       "       ...,\n",
       "       [ 4.14522822,  4.14825568,  4.15125075, ...,  6.10632654,\n",
       "         6.10632654,  6.10632654],\n",
       "       [ 2.89861088,  2.89287848,  2.88716807, ...,  6.04349467,\n",
       "         6.04349467,  6.04349467],\n",
       "       [ 2.05567638,  2.0614548 ,  2.06723314, ...,  5.98066281,\n",
       "         5.98066281,  5.98066281]])\n",
       " y_events: None"
      ]
     },
     "execution_count": 587,
     "metadata": {},
     "output_type": "execute_result"
    }
   ],
   "source": [
    "solx"
   ]
  },
  {
   "cell_type": "code",
   "execution_count": null,
   "id": "f5de86e1",
   "metadata": {},
   "outputs": [],
   "source": []
  }
 ],
 "metadata": {
  "kernelspec": {
   "display_name": "venv_xgi",
   "language": "python",
   "name": "venv_xgi"
  },
  "language_info": {
   "codemirror_mode": {
    "name": "ipython",
    "version": 3
   },
   "file_extension": ".py",
   "mimetype": "text/x-python",
   "name": "python",
   "nbconvert_exporter": "python",
   "pygments_lexer": "ipython3",
   "version": "3.9.13"
  },
  "toc": {
   "base_numbering": 1,
   "nav_menu": {},
   "number_sections": true,
   "sideBar": true,
   "skip_h1_title": false,
   "title_cell": "Table of Contents",
   "title_sidebar": "Contents",
   "toc_cell": false,
   "toc_position": {},
   "toc_section_display": true,
   "toc_window_display": true
  }
 },
 "nbformat": 4,
 "nbformat_minor": 5
}
