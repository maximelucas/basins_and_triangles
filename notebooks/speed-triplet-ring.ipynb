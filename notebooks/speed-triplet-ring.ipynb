{
 "cells": [
  {
   "cell_type": "code",
   "execution_count": 1,
   "id": "6742f1f8",
   "metadata": {},
   "outputs": [],
   "source": [
    "import sys\n",
    "from itertools import combinations\n",
    "from math import sin\n",
    "from pathlib import Path\n",
    "\n",
    "import matplotlib.pyplot as plt\n",
    "import numpy as np\n",
    "import seaborn as sb\n",
    "from tqdm import tqdm\n",
    "\n",
    "sys.path.append(\"../code/\")\n",
    "\n",
    "import xgi\n",
    "from kuramoto_hoi import *\n",
    "\n",
    "sb.set_theme(style=\"ticks\", context=\"notebook\")"
   ]
  },
  {
   "cell_type": "markdown",
   "id": "a1ed37b3",
   "metadata": {},
   "source": [
    "## Versions of rhs"
   ]
  },
  {
   "cell_type": "code",
   "execution_count": 2,
   "id": "e94ad652",
   "metadata": {},
   "outputs": [],
   "source": [
    "def rhs_yuanzhao(t, theta, N, K1, K2, sigma0, sigma, return_tris=False):\n",
    "    \"\"\"\n",
    "    RHS\n",
    "    \n",
    "    Parameters\n",
    "    ----------\n",
    "    sigma : float\n",
    "        Triplet coupling strength\n",
    "    K1, K2 : int\n",
    "        Pairwise and triplet nearest neighbour ranges\n",
    "    \"\"\"\n",
    "    dtheta_dt = np.zeros(N)\n",
    "\n",
    "    # pairwise coupling\n",
    "    for ii in range(N):\n",
    "        for jj in range(-K1,K1+1):\n",
    "            dtheta_dt[ii] +=  sigma0*np.sin(theta[(ii+jj)%N] - theta[ii])/K1\n",
    "    tris = []\n",
    "    # triadic coupling\n",
    "    idx = list(range(-K2,0)) + list(range(1,K2+1))\n",
    "    for ii in range(N):\n",
    "        for jj in idx:\n",
    "            for kk in idx:\n",
    "                if jj != kk:\n",
    "                    tris.append([ii, (ii+jj)%N, (ii+kk)%N])\n",
    "                    #print([ii, (ii+jj)%N, (ii+kk)%N])\n",
    "                    dtheta_dt[ii] +=  sigma*sin(theta[(ii+kk)%N] + theta[(ii+jj)%N] - 2*theta[ii])/(K2*(2.0*K2-1))\n",
    "    \n",
    "    #print(len(tris))\n",
    "    if return_tris:\n",
    "        return dtheta_dt, tris\n",
    "    else:\n",
    "        return dtheta_dt"
   ]
  },
  {
   "cell_type": "code",
   "execution_count": 3,
   "id": "c3153101",
   "metadata": {},
   "outputs": [],
   "source": [
    "def rhs_yuanzhao(t, theta, N, K1, K2, sigma0, sigma):\n",
    "    \"\"\"\n",
    "    RHS\n",
    "    \n",
    "    Parameters\n",
    "    ----------\n",
    "    sigma : float\n",
    "        Triplet coupling strength\n",
    "    K1, K2 : int\n",
    "        Pairwise and triplet nearest neighbour ranges\n",
    "    \"\"\"\n",
    "    dtheta_dt = np.zeros(N)\n",
    "\n",
    "    # pairwise coupling\n",
    "    for ii in range(N):\n",
    "        for jj in range(-K1,K1+1):\n",
    "            dtheta_dt[ii] +=  sigma0*np.sin(theta[(ii+jj)%N] - theta[ii])/K1\n",
    "    # triadic coupling\n",
    "    idx = list(range(-K2,0)) + list(range(1,K2+1))\n",
    "    for ii in range(N):\n",
    "        for jj in idx:\n",
    "            for kk in idx:\n",
    "                if jj != kk:\n",
    "                    #print([ii, (ii+jj)%N, (ii+kk)%N])\n",
    "                    dtheta_dt[ii] +=  sigma*sin(theta[(ii+kk)%N] + theta[(ii+jj)%N] - 2*theta[ii])/(K2*(2.0*K2-1))\n",
    "    \n",
    "    return dtheta_dt"
   ]
  },
  {
   "cell_type": "code",
   "execution_count": 4,
   "id": "c9575e3d",
   "metadata": {},
   "outputs": [],
   "source": [
    "from math import sin\n",
    "\n",
    "\n",
    "def rhs_oneloop(t, theta, N, K1, K2, sigma0, sigma):\n",
    "    \"\"\"\n",
    "    RHS\n",
    "\n",
    "    Parameters\n",
    "    ----------\n",
    "    sigma : float\n",
    "        Triplet coupling strength\n",
    "    K1, K2 : int\n",
    "        Pairwise and triplet nearest neighbour ranges\n",
    "    \"\"\"\n",
    "\n",
    "    pairwise = np.zeros(N)\n",
    "    triplets = np.zeros(N)\n",
    "\n",
    "    # triadic coupling\n",
    "    idx_2 = list(range(-K2, 0)) + list(range(1, K2 + 1))\n",
    "    idx_1 = range(-K1, K1 + 1)\n",
    "\n",
    "    for ii in range(N):\n",
    "\n",
    "        for jj in idx_1:  # pairwise\n",
    "            jjj = (ii + jj) % N\n",
    "            pairwise[ii] += sin(theta[jjj] - theta[ii])\n",
    "\n",
    "        for jj in idx_2:  # triplet\n",
    "            for kk in idx_2:\n",
    "                if jj < kk: # because coupling function is symmetric in j and k\n",
    "                    jjj = (ii + jj) % N\n",
    "                    kkk = (ii + kk) % N\n",
    "                    triplets[ii] += 2 * sin(theta[kkk] + theta[jjj] - 2 * theta[ii]) # x2 to count triangles in both directions\n",
    "\n",
    "    return (sigma0 / K1) * pairwise + sigma / (K2 * (2 * K2 - 1)) * triplets"
   ]
  },
  {
   "cell_type": "code",
   "execution_count": 15,
   "id": "d7d23a79",
   "metadata": {},
   "outputs": [],
   "source": [
    "from numba import jit\n",
    "\n",
    "@jit(nopython=True)\n",
    "def rhs_oneloop_nb(t, theta, omega, sigma0, sigma, K1, K2):\n",
    "    \"\"\"\n",
    "    RHS\n",
    "\n",
    "    Parameters\n",
    "    ----------\n",
    "    sigma : float\n",
    "        Triplet coupling strength\n",
    "    K1, K2 : int\n",
    "        Pairwise and triplet nearest neighbour ranges\n",
    "    \"\"\"\n",
    "    \n",
    "    N = len(theta)\n",
    "\n",
    "    pairwise = np.zeros(N)\n",
    "    triplets = np.zeros(N)\n",
    "\n",
    "    # triadic coupling\n",
    "    idx_2 = list(range(-K2, 0)) + list(range(1, K2 + 1))\n",
    "    idx_1 = range(-K1, K1 + 1)\n",
    "\n",
    "    for ii in range(N):\n",
    "\n",
    "        for jj in idx_1:  # pairwise\n",
    "            jjj = (ii + jj) % N\n",
    "            pairwise[ii] += sin(theta[jjj] - theta[ii])\n",
    "\n",
    "        for jj in idx_2:  # triplet\n",
    "            for kk in idx_2:\n",
    "                if jj < kk:\n",
    "                    jjj = (ii + jj) % N\n",
    "                    kkk = (ii + kk) % N\n",
    "                    triplets[ii] += 2 * sin(theta[kkk] + theta[jjj] - 2 * theta[ii])\n",
    "\n",
    "    return (sigma0 / K1) * pairwise + sigma / (K2 * (2 * K2 - 1)) * triplets"
   ]
  },
  {
   "cell_type": "code",
   "execution_count": 16,
   "id": "ea559857",
   "metadata": {},
   "outputs": [],
   "source": [
    "# dynamical parameters\n",
    "omega = 0 #1 * np.ones(N)  # np.random.normal(size=N) #1 * np.ones(N)\n",
    "t = 0"
   ]
  },
  {
   "cell_type": "code",
   "execution_count": 17,
   "id": "9c8f82bc",
   "metadata": {},
   "outputs": [],
   "source": [
    "N = 100\n",
    "\n",
    "r1 = 2\n",
    "r2 = 2\n",
    "K1 = r1\n",
    "K2 = r2"
   ]
  },
  {
   "cell_type": "code",
   "execution_count": 18,
   "id": "08c3a95c",
   "metadata": {},
   "outputs": [],
   "source": [
    "k1 = 1  #pairwise coupling strength\n",
    "k2 = 1  # triplet coupling strength\n",
    "sigma0 = k1\n",
    "sigma = k2"
   ]
  },
  {
   "cell_type": "code",
   "execution_count": 19,
   "id": "bbdcaa45",
   "metadata": {},
   "outputs": [],
   "source": [
    "psi = generate_state(N=N, kind=\"random\", noise=0) # random state"
   ]
  },
  {
   "cell_type": "markdown",
   "id": "e0bf16a1",
   "metadata": {},
   "source": [
    "### Correctness"
   ]
  },
  {
   "cell_type": "code",
   "execution_count": 20,
   "id": "5a29fb02",
   "metadata": {},
   "outputs": [],
   "source": [
    "xx = rhs_yuanzhao(t, psi, N, K1, K2, sigma0, sigma)"
   ]
  },
  {
   "cell_type": "code",
   "execution_count": 21,
   "id": "e3398883",
   "metadata": {},
   "outputs": [],
   "source": [
    "yy = rhs_oneloop(t, psi, N, K1, K2, sigma0, sigma)"
   ]
  },
  {
   "cell_type": "code",
   "execution_count": 22,
   "id": "b0e3848d",
   "metadata": {},
   "outputs": [],
   "source": [
    "zz = rhs_oneloop_nb(t, psi, omega, sigma0, sigma, K1, K2)"
   ]
  },
  {
   "cell_type": "code",
   "execution_count": 23,
   "id": "3595624e",
   "metadata": {},
   "outputs": [
    {
     "data": {
      "text/plain": [
       "True"
      ]
     },
     "execution_count": 23,
     "metadata": {},
     "output_type": "execute_result"
    }
   ],
   "source": [
    "np.allclose(xx, yy)"
   ]
  },
  {
   "cell_type": "code",
   "execution_count": 24,
   "id": "efa9e603",
   "metadata": {},
   "outputs": [
    {
     "data": {
      "text/plain": [
       "True"
      ]
     },
     "execution_count": 24,
     "metadata": {},
     "output_type": "execute_result"
    }
   ],
   "source": [
    "np.allclose(xx, zz)"
   ]
  },
  {
   "cell_type": "markdown",
   "id": "9d34f612",
   "metadata": {},
   "source": [
    "### Speed for one iteration"
   ]
  },
  {
   "cell_type": "code",
   "execution_count": 25,
   "id": "d2f7926c",
   "metadata": {},
   "outputs": [
    {
     "name": "stdout",
     "output_type": "stream",
     "text": [
      "968 µs ± 7.58 µs per loop (mean ± std. dev. of 7 runs, 1,000 loops each)\n"
     ]
    }
   ],
   "source": [
    "%timeit rhs_yuanzhao(t, psi, N, K1, K2, sigma0, sigma)"
   ]
  },
  {
   "cell_type": "code",
   "execution_count": 26,
   "id": "3c27ff83",
   "metadata": {},
   "outputs": [
    {
     "name": "stdout",
     "output_type": "stream",
     "text": [
      "438 µs ± 5.07 µs per loop (mean ± std. dev. of 7 runs, 1,000 loops each)\n"
     ]
    }
   ],
   "source": [
    "%timeit rhs_oneloop(t, psi, N, K1, K2, sigma0, sigma)"
   ]
  },
  {
   "cell_type": "code",
   "execution_count": 27,
   "id": "fb9e9d47",
   "metadata": {},
   "outputs": [
    {
     "name": "stdout",
     "output_type": "stream",
     "text": [
      "3.35 µs ± 10.8 ns per loop (mean ± std. dev. of 7 runs, 100,000 loops each)\n"
     ]
    }
   ],
   "source": [
    "%timeit rhs_oneloop_nb(t, psi, N, K1, K2, sigma0, sigma)"
   ]
  },
  {
   "cell_type": "markdown",
   "id": "32156248",
   "metadata": {},
   "source": [
    "### Speed for full integration"
   ]
  },
  {
   "cell_type": "code",
   "execution_count": 113,
   "id": "8a658300",
   "metadata": {},
   "outputs": [],
   "source": [
    "kwargs = {\n",
    "    \"K1\" : K1, \n",
    "    \"K2\" : K2\n",
    "}"
   ]
  },
  {
   "cell_type": "code",
   "execution_count": 116,
   "id": "15761c03",
   "metadata": {},
   "outputs": [],
   "source": [
    "t_end = 500\n",
    "dt = 0.01"
   ]
  },
  {
   "cell_type": "code",
   "execution_count": 114,
   "id": "abc78daa",
   "metadata": {},
   "outputs": [
    {
     "name": "stdout",
     "output_type": "stream",
     "text": [
      "577 ms ± 5.05 ms per loop (mean ± std. dev. of 7 runs, 1 loop each)\n"
     ]
    }
   ],
   "source": [
    "%%timeit \n",
    "\n",
    "thetas, times = simulate_kuramoto(\n",
    "    xgi.trivial_hypergraph(n=N),\n",
    "    k1,\n",
    "    k2,\n",
    "    omega=omega,\n",
    "    theta_0=psi,\n",
    "    t_end=t_end,\n",
    "    dt=dt,\n",
    "    rhs=rhs_oneloop_nb,  # rhs_pairwise_all\n",
    "    **kwargs\n",
    ")"
   ]
  },
  {
   "cell_type": "code",
   "execution_count": 115,
   "id": "3ffd8c36",
   "metadata": {},
   "outputs": [],
   "source": [
    "from scipy.integrate import solve_ivp"
   ]
  },
  {
   "cell_type": "code",
   "execution_count": 196,
   "id": "123a2a2c",
   "metadata": {},
   "outputs": [],
   "source": [
    "#%%timeit\n",
    "\n",
    "solx = solve_ivp(rhs_oneloop_nb, [0, t_end], psi, args=(omega, sigma0, sigma, K1, K2))"
   ]
  },
  {
   "cell_type": "code",
   "execution_count": 197,
   "id": "5de8bd0c",
   "metadata": {},
   "outputs": [
    {
     "data": {
      "text/plain": [
       "[<matplotlib.lines.Line2D at 0x2ab59ec40>]"
      ]
     },
     "execution_count": 197,
     "metadata": {},
     "output_type": "execute_result"
    },
    {
     "data": {
      "image/png": "[encoded data removed]",
      "text/plain": [
       "<Figure size 640x480 with 1 Axes>"
      ]
     },
     "metadata": {},
     "output_type": "display_data"
    }
   ],
   "source": [
    "plt.plot(np.sin(thetas[:,-1]),  \"o\", label=\"my_euler\")\n",
    "\n",
    "plt.plot(np.sin(solx.y[:,-1]), \"x\", label=\"solve_ivp\", alpha=0.9)"
   ]
  },
  {
   "cell_type": "code",
   "execution_count": 198,
   "id": "bf5f544b",
   "metadata": {},
   "outputs": [
    {
     "data": {
      "text/plain": [
       "True"
      ]
     },
     "execution_count": 198,
     "metadata": {},
     "output_type": "execute_result"
    }
   ],
   "source": [
    "np.allclose(thetas[:,-1], solx.y[:,-1], atol=1e-2)"
   ]
  },
  {
   "cell_type": "code",
   "execution_count": 199,
   "id": "bd951f42",
   "metadata": {},
   "outputs": [
    {
     "data": {
      "text/plain": [
       "[<matplotlib.lines.Line2D at 0x2ab61d520>]"
      ]
     },
     "execution_count": 199,
     "metadata": {},
     "output_type": "execute_result"
    },
    {
     "data": {
      "image/png": "[encoded data removed]",
      "text/plain": [
       "<Figure size 640x480 with 1 Axes>"
      ]
     },
     "metadata": {},
     "output_type": "display_data"
    }
   ],
   "source": [
    "plt.plot(thetas[:,-1] - solx.y[:,-1])"
   ]
  },
  {
   "cell_type": "code",
   "execution_count": 190,
   "id": "e75e6ffe",
   "metadata": {},
   "outputs": [
    {
     "data": {
      "text/plain": [
       "[<matplotlib.lines.Line2D at 0x2ab524b80>]"
      ]
     },
     "execution_count": 190,
     "metadata": {},
     "output_type": "execute_result"
    },
    {
     "data": {
      "image/png": "[encoded data removed]",
      "text/plain": [
       "<Figure size 640x480 with 1 Axes>"
      ]
     },
     "metadata": {},
     "output_type": "display_data"
    }
   ],
   "source": [
    "plt.plot(np.diff(solx.t))"
   ]
  },
  {
   "cell_type": "code",
   "execution_count": null,
   "id": "9217a61d",
   "metadata": {},
   "outputs": [],
   "source": []
  },
  {
   "cell_type": "code",
   "execution_count": null,
   "id": "b7b66ea9",
   "metadata": {},
   "outputs": [],
   "source": []
  },
  {
   "cell_type": "code",
   "execution_count": 191,
   "id": "b770e5cc",
   "metadata": {},
   "outputs": [
    {
     "data": {
      "text/plain": [
       "(50002,)"
      ]
     },
     "execution_count": 191,
     "metadata": {},
     "output_type": "execute_result"
    }
   ],
   "source": [
    "solx.t.shape"
   ]
  },
  {
   "cell_type": "code",
   "execution_count": 192,
   "id": "a993aea1",
   "metadata": {},
   "outputs": [
    {
     "data": {
      "text/plain": [
       "(100, 50001)"
      ]
     },
     "execution_count": 192,
     "metadata": {},
     "output_type": "execute_result"
    }
   ],
   "source": [
    "thetas.shape"
   ]
  },
  {
   "cell_type": "code",
   "execution_count": 176,
   "id": "d1f04913",
   "metadata": {},
   "outputs": [
    {
     "data": {
      "text/plain": [
       "  message: 'The solver successfully reached the end of the integration interval.'\n",
       "     nfev: 30008\n",
       "     njev: 0\n",
       "      nlu: 0\n",
       "      sol: None\n",
       "   status: 0\n",
       "  success: True\n",
       "        t: array([0.00000000e+00, 7.79880491e-02, 1.77988049e-01, ...,\n",
       "       4.99877988e+02, 4.99977988e+02, 5.00000000e+02])\n",
       " t_events: None\n",
       "        y: array([[3.78581064, 3.79968143, 3.8170337 , ..., 7.03298231, 7.03298231,\n",
       "        7.03298231],\n",
       "       [5.56302393, 5.57814359, 5.5982541 , ..., 7.03298237, 7.03298238,\n",
       "        7.03298238],\n",
       "       [2.5279681 , 2.56627129, 2.61713841, ..., 7.03298245, 7.03298245,\n",
       "        7.03298245],\n",
       "       ...,\n",
       "       [2.24244591, 2.14557401, 1.98796179, ..., 0.74979685, 0.74979685,\n",
       "        0.74979685],\n",
       "       [0.07141451, 0.1029643 , 0.14671937, ..., 0.74979689, 0.74979689,\n",
       "        0.7497969 ],\n",
       "       [2.05451144, 2.03267026, 2.00359919, ..., 0.74979694, 0.74979695,\n",
       "        0.74979695]])\n",
       " y_events: None"
      ]
     },
     "execution_count": 176,
     "metadata": {},
     "output_type": "execute_result"
    }
   ],
   "source": [
    "solx"
   ]
  },
  {
   "cell_type": "code",
   "execution_count": null,
   "id": "f5de86e1",
   "metadata": {},
   "outputs": [],
   "source": []
  }
 ],
 "metadata": {
  "kernelspec": {
   "display_name": "venv_xgi",
   "language": "python",
   "name": "venv_xgi"
  },
  "language_info": {
   "codemirror_mode": {
    "name": "ipython",
    "version": 3
   },
   "file_extension": ".py",
   "mimetype": "text/x-python",
   "name": "python",
   "nbconvert_exporter": "python",
   "pygments_lexer": "ipython3",
   "version": "3.9.13"
  },
  "toc": {
   "base_numbering": 1,
   "nav_menu": {},
   "number_sections": true,
   "sideBar": true,
   "skip_h1_title": false,
   "title_cell": "Table of Contents",
   "title_sidebar": "Contents",
   "toc_cell": false,
   "toc_position": {},
   "toc_section_display": true,
   "toc_window_display": true
  }
 },
 "nbformat": 4,
 "nbformat_minor": 5
}
