{
 "cells": [
  {
   "cell_type": "markdown",
   "id": "417f4911",
   "metadata": {},
   "source": [
    "# Explore basins and states: all-to-all"
   ]
  },
  {
   "cell_type": "code",
   "execution_count": 4,
   "id": "8da1197d",
   "metadata": {},
   "outputs": [],
   "source": [
    "import sys\n",
    "from itertools import combinations\n",
    "from math import sin\n",
    "from pathlib import Path\n",
    "\n",
    "import matplotlib.pyplot as plt\n",
    "import numpy as np\n",
    "import seaborn as sb\n",
    "from tqdm import tqdm\n",
    "\n",
    "sys.path.append(\"../code/\")\n",
    "\n",
    "import xgi\n",
    "from kuramoto_hoi import *\n",
    "\n",
    "sb.set_theme(style=\"ticks\", context=\"notebook\")\n",
    "\n",
    "results_dir = \"../results/\"\n",
    "data_dir = \"../data/\"\n",
    "\n",
    "Path(results_dir).mkdir(parents=True, exist_ok=True)\n",
    "Path(data_dir).mkdir(parents=True, exist_ok=True)"
   ]
  },
  {
   "cell_type": "code",
   "execution_count": 5,
   "id": "32c235cb",
   "metadata": {},
   "outputs": [],
   "source": [
    "def nearest_neighbors(N, d, r, kind=\"strict\"):\n",
    "    \"\"\"\n",
    "    Create a d-uniform hypergraph representing nearest neighbor relationships.\n",
    "\n",
    "    Parameters\n",
    "    ----------\n",
    "    N : int\n",
    "        The total number of nodes.\n",
    "\n",
    "    d : int\n",
    "        Size of hyperedges\n",
    "\n",
    "    r : int\n",
    "        The range of neighbors to consider. Neighbors within the range [-r, r]\n",
    "        (excluding the node itself) will be connected.\n",
    "\n",
    "    Returns\n",
    "    -------\n",
    "    xgi.Hypergraph\n",
    "        A hypergraph object representing the nearest neighbor relationships.\n",
    "\n",
    "    Raises:\n",
    "    ------\n",
    "    \"\"\"\n",
    "\n",
    "    r_min = int(np.ceil((d - 1) / 2))\n",
    "    if r < r_min:\n",
    "        raise ValueError(f\"r must be >= ceil((d - 1) / 2) = {r_min} to have edges.\")\n",
    "\n",
    "    H = xgi.Hypergraph()\n",
    "\n",
    "    nodes = np.arange(N)\n",
    "\n",
    "    edges = []\n",
    "    neighbor_rel_ids = np.concatenate((np.arange(-r, 0), np.arange(1, r + 1)))\n",
    "\n",
    "    for i in nodes:\n",
    "        neighbor_ids = i + neighbor_rel_ids\n",
    "        edge_neighbors_i = combinations(neighbor_ids, d - 1)\n",
    "        if kind == \"strict\":\n",
    "            edge_neighbors_i = [el for el in edge_neighbors_i if max(el) - min(el) <= r]\n",
    "        edges_i = [(i, *comb) for comb in edge_neighbors_i]\n",
    "        edges = edges + edges_i\n",
    "\n",
    "    edges = np.mod(edges, N)\n",
    "\n",
    "    H.add_nodes_from(nodes)\n",
    "    H.add_edges_from(edges)\n",
    "    H.cleanup()  # remove duplicate edges\n",
    "    return H"
   ]
  },
  {
   "cell_type": "markdown",
   "id": "9775a80e",
   "metadata": {},
   "source": [
    "## Generate structure"
   ]
  },
  {
   "cell_type": "code",
   "execution_count": 6,
   "id": "7ece7682",
   "metadata": {},
   "outputs": [
    {
     "name": "stdout",
     "output_type": "stream",
     "text": [
      "Unnamed Hypergraph with 100 nodes and 600 hyperedges\n"
     ]
    }
   ],
   "source": [
    "N = 100\n",
    "# H = xgi.complete_hypergraph(N, max_order=2)\n",
    "\n",
    "r1 = 2\n",
    "r2 = 2\n",
    "\n",
    "H2 = nearest_neighbors(N, d=3, r=r2, kind=None)\n",
    "H1 = nearest_neighbors(N, d=2, r=r1, kind=None)\n",
    "H = H1 << H2\n",
    "\n",
    "print(H)"
   ]
  },
  {
   "cell_type": "code",
   "execution_count": null,
   "id": "5c5b9220",
   "metadata": {},
   "outputs": [],
   "source": []
  },
  {
   "cell_type": "code",
   "execution_count": 7,
   "id": "93dd7211",
   "metadata": {},
   "outputs": [
    {
     "data": {
      "image/png": "[encoded data removed]",
      "text/plain": [
       "<Figure size 200x200 with 1 Axes>"
      ]
     },
     "metadata": {},
     "output_type": "display_data"
    }
   ],
   "source": [
    "fig, ax = plt.subplots(figsize=(2, 2))\n",
    "pos = xgi.circular_layout(H)\n",
    "\n",
    "ax, ims = xgi.draw(H, pos=pos, ax=ax, node_size=1, edge_fc=\"r\", alpha=0.1)\n",
    "\n",
    "plt.show()"
   ]
  },
  {
   "cell_type": "code",
   "execution_count": 8,
   "id": "0613c581",
   "metadata": {},
   "outputs": [
    {
     "data": {
      "text/plain": [
       "1"
      ]
     },
     "execution_count": 8,
     "metadata": {},
     "output_type": "execute_result"
    }
   ],
   "source": [
    "ims[2].get_zorder()"
   ]
  },
  {
   "cell_type": "code",
   "execution_count": null,
   "id": "340b3c25",
   "metadata": {},
   "outputs": [],
   "source": []
  },
  {
   "cell_type": "code",
   "execution_count": 20,
   "id": "908d6519",
   "metadata": {},
   "outputs": [],
   "source": [
    "# may be used in the simulation function\n",
    "links = H.edges.filterby(\"size\", 2).members()\n",
    "triangles = H.edges.filterby(\"size\", 3).members()\n",
    "adj1 = xgi.adjacency_matrix(H, order=1, sparse=False)\n",
    "adj2 = xgi.adjacency_matrix(H, order=2, sparse=False)\n",
    "k1_avg = H.nodes.degree(order=1).mean()\n",
    "k2_avg = H.nodes.degree(order=2).mean()"
   ]
  },
  {
   "cell_type": "markdown",
   "id": "388376d1",
   "metadata": {},
   "source": [
    "## Dynamics"
   ]
  },
  {
   "cell_type": "code",
   "execution_count": 10,
   "id": "91f4e739",
   "metadata": {},
   "outputs": [
    {
     "data": {
      "image/png": "[encoded data removed]",
      "text/plain": [
       "<Figure size 100x100 with 1 Axes>"
      ]
     },
     "metadata": {},
     "output_type": "display_data"
    },
    {
     "data": {
      "text/plain": [
       "<matplotlib.colorbar.Colorbar at 0x17d2b3490>"
      ]
     },
     "execution_count": 10,
     "metadata": {},
     "output_type": "execute_result"
    },
    {
     "data": {
      "image/png": "[encoded data removed]",
      "text/plain": [
       "<Figure size 200x200 with 2 Axes>"
      ]
     },
     "metadata": {},
     "output_type": "display_data"
    }
   ],
   "source": [
    "# Set parameters\n",
    "\n",
    "# dynamical\n",
    "k1 = 1  # pairwise coupling strength\n",
    "k2 = 0  # triplet coupling strength\n",
    "omega = 1 * np.ones(N)  # np.random.normal(size=N) #1 * np.ones(N)\n",
    "\n",
    "ic = \"random\"  # initial condition type, see below\n",
    "noise = 1e-1  # noise strength\n",
    "p2 = None\n",
    "\n",
    "\n",
    "psi_init = generate_state(N, kind=ic, q=2, noise=noise)\n",
    "\n",
    "# integration\n",
    "t_end = 200\n",
    "dt = 0.01\n",
    "times = np.arange(0, t_end + dt / 2, dt)\n",
    "\n",
    "tag_params = f\"k1_{k1}_k2_{k2}_ic_{ic}\"\n",
    "\n",
    "fig, ax = plt.subplots(figsize=(1, 1))\n",
    "plot_phases(psi_init, it=None, ax=ax)\n",
    "plt.show()\n",
    "\n",
    "# only to viz twisted states\n",
    "fig, ax = plt.subplots(figsize=(2, 2))\n",
    "ax, ims = xgi.draw(\n",
    "    H, pos=pos, node_fc=psi_init % (2 * np.pi), node_fc_cmap=\"twilight\", node_size=5\n",
    ")\n",
    "plt.colorbar(ims[0], label=\"phase value\")"
   ]
  },
  {
   "cell_type": "code",
   "execution_count": 16,
   "id": "2c369731",
   "metadata": {},
   "outputs": [],
   "source": [
    "def rhs_pairwise_triplet_all_sym(t, psi, omega, k1, k2):\n",
    "    out = (\n",
    "        rhs_pairwise_all(t, psi, omega, k1, k2)\n",
    "        + rhs_triplet_all_sym(t, psi, omega, k1, k2)\n",
    "        - omega\n",
    "    )\n",
    "\n",
    "    return out\n",
    "\n",
    "\n",
    "def rhs_pairwise_triplet_all_asym(t, psi, omega, k1, k2):\n",
    "    out = (\n",
    "        rhs_pairwise_all(t, psi, omega, k1, k2)\n",
    "        + rhs_triplet_all_asym(t, psi, omega, k1, k2)\n",
    "        - omega\n",
    "    )\n",
    "\n",
    "    return out\n",
    "\n",
    "\n",
    "def rhs_pairwise_triplet_all_sym(t, psi, omega, k1, k2):\n",
    "    out = (\n",
    "        rhs_pairwise_all(t, psi, omega, k1, k2)\n",
    "        + rhs_triplet_all_sym(t, psi, omega, k1, k2)\n",
    "        - omega\n",
    "    )\n",
    "\n",
    "    return out\n",
    "\n",
    "\n",
    "from numba import jit\n",
    "\n",
    "\n",
    "def rhs_23_nn_sym_micro(t, psi, omega, k1, k2, r1, r2, links, triangles):\n",
    "    N = len(psi)\n",
    "    pairwise = np.zeros(N)\n",
    "    triplet = np.zeros(N)\n",
    "\n",
    "    for i, j in links:\n",
    "        # sin(oj - oi)\n",
    "        oi = psi[i]\n",
    "        oj = psi[j]\n",
    "        pairwise[i] += sin(oj - oi)\n",
    "        pairwise[j] += sin(oi - oj)\n",
    "\n",
    "    for i, j, k in triangles:\n",
    "        # sin(2 oj - ok - oi)\n",
    "        oi = psi[i]\n",
    "        oj = psi[j]\n",
    "        ok = psi[k]\n",
    "        triplet[i] += 2 * sin(oj + ok - 2 * oi)\n",
    "        triplet[j] += 2 * sin(oi + ok - 2 * oj)\n",
    "        triplet[k] += 2 * sin(oj + oi - 2 * ok)\n",
    "\n",
    "    g1 = r1\n",
    "    g2 = r2 * (2 * r2 - 1)\n",
    "\n",
    "    return omega + (k1 / r1) * pairwise + (k2 / g2) * (triplet / 2)\n",
    "\n",
    "\n",
    "def rhs_23_nn_sym(t, psi, omega, k1, k2, r1, r2, adj1, adj2):\n",
    "    N = len(psi)\n",
    "    sin_psi = np.sin(psi)\n",
    "    cos_psi = np.cos(psi)\n",
    "\n",
    "    pairwise = adj1.dot(sin_psi) * cos_psi - adj1.dot(cos_psi) * sin_psi\n",
    "\n",
    "    sum_cos_psi = adj2.dot(cos_psi)\n",
    "    sum_sin_psi = adj2.dot(sin_psi)\n",
    "\n",
    "    # oj + ok - 2oi\n",
    "    triplet = (\n",
    "        -2 * sum_cos_psi**2 * sin_psi * cos_psi\n",
    "        + cos_psi**2 * sum_cos_psi * sum_sin_psi\n",
    "        - sum_cos_psi * sin_psi**2 * sum_sin_psi\n",
    "        + sum_cos_psi * cos_psi**2 * sum_sin_psi\n",
    "        - sum_cos_psi * sin_psi**2 * sum_sin_psi\n",
    "        + 2 * cos_psi * sin_psi * sum_sin_psi**2\n",
    "    )\n",
    "\n",
    "    g1 = r1\n",
    "    g2 = r2 * (2 * r2 - 1)\n",
    "\n",
    "    return omega + (k1 / r1) * pairwise + (k2 / g2) * triplet"
   ]
  },
  {
   "cell_type": "code",
   "execution_count": 40,
   "id": "cf6e04cf",
   "metadata": {},
   "outputs": [],
   "source": [
    "from itertools import permutations\n",
    "\n",
    "\n",
    "def adjacency_tensor(H, order):\n",
    "    N = H.num_nodes\n",
    "    shape = tuple([N] * (order + 1))\n",
    "    tensor = np.zeros(shape)\n",
    "\n",
    "    edges = H.edges.filterby(\"order\", order)\n",
    "    for id, members in edges.members(dtype=dict).items():\n",
    "        for idcs in permutations(members):\n",
    "            tensor[idcs] = 1\n",
    "\n",
    "    return tensor"
   ]
  },
  {
   "cell_type": "code",
   "execution_count": null,
   "id": "d02012e3",
   "metadata": {},
   "outputs": [],
   "source": [
    "def rhs_23_nn_sym_micro(t, psi, omega, k1, k2, r1, r2, links, triangles):\n",
    "    N = len(psi)\n",
    "    pairwise = np.zeros(N)\n",
    "    triplet = np.zeros(N)\n",
    "\n",
    "    for i, j in links:\n",
    "        # sin(oj - oi)\n",
    "        oi = psi[i]\n",
    "        oj = psi[j]\n",
    "        pairwise[i] += sin(oj - oi)\n",
    "        pairwise[j] += sin(oi - oj)\n",
    "\n",
    "    for i, j, k in triangles:\n",
    "        # sin(2 oj - ok - oi)\n",
    "        oi = psi[i]\n",
    "        oj = psi[j]\n",
    "        ok = psi[k]\n",
    "        triplet[i] += 2 * sin(oj + ok - 2 * oi)\n",
    "        triplet[j] += 2 * sin(oi + ok - 2 * oj)\n",
    "        triplet[k] += 2 * sin(oj + oi - 2 * ok)"
   ]
  },
  {
   "cell_type": "code",
   "execution_count": null,
   "id": "e2f31cf2",
   "metadata": {},
   "outputs": [],
   "source": []
  },
  {
   "cell_type": "code",
   "execution_count": null,
   "id": "f29959aa",
   "metadata": {},
   "outputs": [],
   "source": []
  },
  {
   "cell_type": "code",
   "execution_count": null,
   "id": "b0557d26",
   "metadata": {},
   "outputs": [],
   "source": []
  },
  {
   "cell_type": "code",
   "execution_count": null,
   "id": "39d03783",
   "metadata": {},
   "outputs": [],
   "source": []
  },
  {
   "cell_type": "code",
   "execution_count": 49,
   "id": "01a08605",
   "metadata": {},
   "outputs": [
    {
     "data": {
      "text/plain": [
       "array([[0, 1, 1, ..., 1, 1, 1],\n",
       "       [1, 0, 1, ..., 1, 1, 1],\n",
       "       [1, 1, 0, ..., 0, 1, 1],\n",
       "       ...,\n",
       "       [1, 1, 0, ..., 0, 1, 1],\n",
       "       [1, 1, 1, ..., 1, 0, 1],\n",
       "       [1, 1, 1, ..., 1, 1, 0]])"
      ]
     },
     "execution_count": 49,
     "metadata": {},
     "output_type": "execute_result"
    }
   ],
   "source": [
    "adj2"
   ]
  },
  {
   "cell_type": "code",
   "execution_count": 52,
   "id": "bbe0df00",
   "metadata": {},
   "outputs": [],
   "source": [
    "adj_tensor2 = adjacency_tensor(H, order=2)"
   ]
  },
  {
   "cell_type": "code",
   "execution_count": 34,
   "id": "020564f2",
   "metadata": {},
   "outputs": [
    {
     "data": {
      "text/plain": [
       "array([-1.29060683,  0.72512399, -1.45960801, -0.57147108,  1.61033036,\n",
       "       -0.14518709, -0.52758301,  0.86564071,  0.11591221,  0.56219682,\n",
       "       -1.38020713, -0.137563  , -0.54421282,  2.75864161,  0.83829927,\n",
       "       -3.45897556,  1.10985175,  2.40657076, -2.73057841,  0.38901132,\n",
       "       -0.38555708,  1.14136022, -0.37075825, -0.62264133, -0.39442017,\n",
       "        0.35083011,  2.07297385, -2.13672205, -0.15159493, -0.75622301,\n",
       "        1.24162012, -0.23264084, -0.59353189,  1.96469237,  1.8784807 ,\n",
       "       -2.35008909, -1.5357253 ,  2.17610116, -1.86213898,  1.13784818,\n",
       "        0.85292553, -1.33268192,  0.41712125,  0.01332362, -0.12000985,\n",
       "       -0.46116003,  0.93527316, -0.71542775,  0.35339857,  1.59261795,\n",
       "       -2.24437475,  1.85294209, -0.72950509, -2.62916034,  3.26988353,\n",
       "       -1.71757401,  0.0433138 ,  0.65728319, -1.31163269,  1.68689937,\n",
       "        0.03687677,  1.1538608 , -0.8544029 , -1.09287956,  1.38284124,\n",
       "       -1.12794767, -1.59192298,  1.59848499, -0.0927817 ,  0.81082727,\n",
       "        0.17363707, -1.39252371, -0.13562215, -1.40772196,  2.2035896 ,\n",
       "        1.13960701, -1.29125345, -2.07685643,  1.57164194, -0.21804349,\n",
       "        1.2992409 , -2.16798127,  1.35658825, -1.89693192,  0.24675732,\n",
       "       -0.80418638,  1.79186581,  0.05993027, -0.29945154,  0.09472417,\n",
       "        0.589677  ,  0.07996183,  0.19900758,  1.95982145, -1.33944739,\n",
       "        1.4972088 , -0.5100213 , -0.24310299,  0.34259494, -1.16657154])"
      ]
     },
     "execution_count": 34,
     "metadata": {},
     "output_type": "execute_result"
    }
   ],
   "source": [
    "pairwise"
   ]
  },
  {
   "cell_type": "code",
   "execution_count": null,
   "id": "e63b6117",
   "metadata": {},
   "outputs": [],
   "source": []
  },
  {
   "cell_type": "code",
   "execution_count": 51,
   "id": "2e205dd1",
   "metadata": {},
   "outputs": [
    {
     "name": "stdout",
     "output_type": "stream",
     "text": [
      "9.93 µs ± 82.4 ns per loop (mean ± std. dev. of 7 runs, 100,000 loops each)\n"
     ]
    }
   ],
   "source": [
    "%timeit rhs_pairwise(0, psi_init, omega, k1, k2, adj1)"
   ]
  },
  {
   "cell_type": "code",
   "execution_count": 52,
   "id": "4b36ef7b",
   "metadata": {},
   "outputs": [
    {
     "name": "stdout",
     "output_type": "stream",
     "text": [
      "95.1 µs ± 1.85 µs per loop (mean ± std. dev. of 7 runs, 10,000 loops each)\n"
     ]
    }
   ],
   "source": [
    "%timeit rhs_pairwise_micro(0, psi_init, omega, k1, k2, links)"
   ]
  },
  {
   "cell_type": "code",
   "execution_count": 54,
   "id": "03489bee",
   "metadata": {},
   "outputs": [
    {
     "name": "stdout",
     "output_type": "stream",
     "text": [
      "472 µs ± 5.76 µs per loop (mean ± std. dev. of 7 runs, 1,000 loops each)\n"
     ]
    }
   ],
   "source": [
    "%timeit rhs_23_nn_sym_micro(0, psi_init, omega, k1, k2, r1, r2, links, triangles)"
   ]
  },
  {
   "cell_type": "code",
   "execution_count": 55,
   "id": "20fa52e6",
   "metadata": {},
   "outputs": [
    {
     "name": "stdout",
     "output_type": "stream",
     "text": [
      "27.3 µs ± 143 ns per loop (mean ± std. dev. of 7 runs, 10,000 loops each)\n"
     ]
    }
   ],
   "source": [
    "%timeit rhs_23_nn_sym(0, psi_init, omega, k1, k2, r1, r2, links, triangles)"
   ]
  },
  {
   "cell_type": "code",
   "execution_count": 25,
   "id": "37d62770",
   "metadata": {},
   "outputs": [],
   "source": [
    "xx = rhs_23_nn_sym_micro(\n",
    "    0, psi_init, omega, k1, k2, r1=r1, r2=r2, links=links, triangles=triangles\n",
    ")\n",
    "yy = rhs_23_nn_sym(0, psi_init, omega, k1, k2, r1=r1, r2=r2, adj1=adj1, adj2=adj2)"
   ]
  },
  {
   "cell_type": "code",
   "execution_count": 27,
   "id": "e191590b",
   "metadata": {},
   "outputs": [
    {
     "data": {
      "text/plain": [
       "array([ 1.68432395e+00, -1.07424668e-02,  1.58493281e+00, -1.74232495e-01,\n",
       "        2.20887359e+00, -5.35021970e-01,  2.05548228e+00,  1.49545870e+00,\n",
       "        3.40149284e+00,  1.21336056e+00, -2.46583039e-01,  4.83387534e-01,\n",
       "        5.91897119e-01,  7.90175858e-01,  3.37313267e+00, -7.45263709e-01,\n",
       "        1.69440108e+00,  2.74952783e+00,  2.97918729e+00,  9.31242631e-01,\n",
       "       -6.17196828e-01,  6.93042956e-02,  5.72681348e-01,  2.13624653e-01,\n",
       "        3.46155832e-01,  1.53811142e+00,  6.89665772e-01,  2.36558841e+00,\n",
       "        1.65182715e+00, -4.41918011e-02, -2.42009992e-01,  7.49337059e-01,\n",
       "        2.34428561e+00,  3.24548886e+00,  1.25925505e+00, -2.19246997e+00,\n",
       "       -1.96060360e+00,  3.92792130e+00,  3.20940610e-01,  1.61092720e+00,\n",
       "        6.41020446e-01,  2.42410792e+00,  2.24664763e+00,  2.53169350e-01,\n",
       "        6.61277051e-01,  4.47894741e-01,  1.46082557e+00,  5.58119683e-01,\n",
       "        1.00600745e-01,  2.65201012e+00, -9.71995422e-01,  2.50726034e+00,\n",
       "       -9.36576344e-01,  7.45366653e-01,  3.28189774e+00, -1.51740282e+00,\n",
       "        9.63391776e-01,  1.61266619e+00,  2.91588814e+00,  2.30136987e+00,\n",
       "        7.18531333e-01,  1.79694754e+00, -2.03919156e-02,  1.30359122e+00,\n",
       "        2.87385796e+00,  4.20055818e-01,  1.63749732e-01,  1.95483162e+00,\n",
       "        1.14037393e-03,  6.56661480e-01,  1.32663812e+00,  1.49185021e-01,\n",
       "        5.01465183e-04,  6.21916838e-01,  3.45524950e+00,  2.66389877e-01,\n",
       "       -8.12331467e-01,  2.28365020e+00,  3.00153089e+00, -6.05835332e-01,\n",
       "        2.41941583e+00,  1.19363988e+00,  1.13046184e+00,  2.96555119e-01,\n",
       "        6.07733160e-01,  1.45857933e+00,  1.17416480e+00,  1.02493205e+00,\n",
       "        2.77523427e+00,  1.13366268e+00,  8.78624359e-01,  1.45413720e+00,\n",
       "        8.50445261e-01,  7.96318777e-01,  4.75559491e-01,  2.17594743e+00,\n",
       "        7.70553635e-01,  8.41145596e-01,  7.57517342e-01,  1.20604052e+00])"
      ]
     },
     "execution_count": 27,
     "metadata": {},
     "output_type": "execute_result"
    }
   ],
   "source": [
    "xx"
   ]
  },
  {
   "cell_type": "code",
   "execution_count": 28,
   "id": "43215ab3",
   "metadata": {},
   "outputs": [
    {
     "data": {
      "text/plain": [
       "array([ 8.12581506e-03, -1.04019885e+00,  3.36728361e+00,  1.02681520e+00,\n",
       "        1.44017215e+00,  1.36492622e+00,  2.39072922e+00,  5.29221582e-01,\n",
       "        3.25085336e+00,  1.58704946e+00, -2.33302177e+00,  5.29951203e-01,\n",
       "        1.32665552e+00, -3.36628318e+00,  3.88326809e+00, -8.45694808e+00,\n",
       "        7.91907380e+00,  4.29345035e+00,  9.74195136e+00, -6.40917615e-01,\n",
       "        1.39919727e+00,  2.63073166e+00, -4.67343499e+00,  9.74612005e-01,\n",
       "        9.26200738e-01,  1.72690803e+00,  2.22187262e+00,  7.60294829e+00,\n",
       "        4.07052682e+00, -2.07008710e+00, -2.02354597e+00,  3.68685782e-01,\n",
       "        7.48703913e+00,  4.29360675e+00, -7.68927212e-01, -6.62700558e+00,\n",
       "       -1.73574591e-01,  3.31795792e+00,  4.51654886e+00,  1.39981556e+00,\n",
       "       -1.77428601e+00,  3.20885053e+00,  8.46770918e-01,  3.44301122e+00,\n",
       "        1.08755011e+00,  6.61884289e-01,  2.35821111e+00,  1.36501545e+00,\n",
       "       -2.39687483e+00,  8.95177014e-01, -1.77676677e+00,  5.81817314e+00,\n",
       "       -3.12173462e+00,  8.16639760e+00,  6.00087654e+00, -7.12607992e+00,\n",
       "        7.14203847e+00,  7.90630683e+00,  6.37708895e+00,  6.68545017e+00,\n",
       "        8.24918891e-01,  1.86990478e+00,  7.68817125e-01,  1.75428981e-01,\n",
       "        9.32007088e-01, -1.24266115e-01,  1.48608514e-01, -4.66102884e-01,\n",
       "       -1.16167372e+00,  6.30908753e-01,  2.27543816e+00, -1.30701787e-01,\n",
       "        2.13878664e+00,  2.46281559e-01,  1.60562254e+00, -4.02571602e+00,\n",
       "        3.51793083e-02,  7.16480171e+00,  1.07121860e+00, -1.86764529e+00,\n",
       "        3.91666942e+00,  4.43486491e+00,  3.34499503e+00, -6.33795037e-01,\n",
       "        2.44937340e+00,  9.54910354e-01, -3.24796096e+00,  1.38055560e+00,\n",
       "        2.37933501e+00, -3.25882049e+00,  3.72445578e+00,  1.11333897e+00,\n",
       "        8.38636351e-01,  7.45923604e-01,  1.20485940e+00,  8.85557847e-01,\n",
       "        4.33807175e+00,  8.52600159e-01,  1.03069441e+00, -6.76890441e-01])"
      ]
     },
     "execution_count": 28,
     "metadata": {},
     "output_type": "execute_result"
    }
   ],
   "source": [
    "yy"
   ]
  },
  {
   "cell_type": "code",
   "execution_count": 49,
   "id": "88c5c993",
   "metadata": {},
   "outputs": [
    {
     "name": "stderr",
     "output_type": "stream",
     "text": [
      "100%|█████████████████████████████████████████| 100/100 [01:08<00:00,  1.45it/s]\n"
     ]
    }
   ],
   "source": [
    "n_reps = 100\n",
    "\n",
    "# simulate\n",
    "kwargs = {\n",
    "    #    \"adj1\": adj1,\n",
    "    \"links\": links,\n",
    "    \"triangles\": triangles,\n",
    "    \"k1_avg\": k1_avg,\n",
    "    \"k2_avg\": k2_avg,\n",
    "}\n",
    "\n",
    "thetas_arr = np.zeros((n_reps, N, len(times)))\n",
    "\n",
    "for i in tqdm(range(n_reps)):\n",
    "    psi_init = generate_state(N, kind=\"random\", noise=noise)\n",
    "\n",
    "    thetas, times = simulate_kuramoto(\n",
    "        H,\n",
    "        k1,\n",
    "        k2,\n",
    "        omega=omega,\n",
    "        theta_0=psi_init,\n",
    "        t_end=t_end,\n",
    "        dt=dt,\n",
    "        rhs=rhs_pairwise_triplet_all_asym,  # rhs_pairwise_all\n",
    "        # **kwargs\n",
    "    )\n",
    "\n",
    "    thetas_arr[i] = thetas"
   ]
  },
  {
   "cell_type": "code",
   "execution_count": 50,
   "id": "df36a858",
   "metadata": {},
   "outputs": [
    {
     "data": {
      "text/plain": [
       "<matplotlib.colorbar.Colorbar at 0x298982370>"
      ]
     },
     "execution_count": 50,
     "metadata": {},
     "output_type": "execute_result"
    },
    {
     "data": {
      "image/png": "[encoded data removed]",
      "text/plain": [
       "<Figure size 400x200 with 4 Axes>"
      ]
     },
     "metadata": {},
     "output_type": "display_data"
    },
    {
     "data": {
      "image/png": "[encoded data removed]",
      "text/plain": [
       "<Figure size 200x200 with 2 Axes>"
      ]
     },
     "metadata": {},
     "output_type": "display_data"
    }
   ],
   "source": [
    "# plot the last repetition\n",
    "i = 3\n",
    "fig, axs = plot_sync(thetas_arr[i], times)\n",
    "\n",
    "axs[0, 1].set_title(f\"$t={times[0]}$s\", fontsize=\"x-small\")\n",
    "axs[1, 1].set_title(f\"$t={times[-1]}$s\", fontsize=\"x-small\")\n",
    "\n",
    "axs[0, 0].set_xlabel(\"\")\n",
    "axs[1, 0].legend(loc=\"best\", fontsize=\"x-small\")\n",
    "\n",
    "plt.subplots_adjust(hspace=0.5, top=0.8)\n",
    "\n",
    "fig.suptitle(tag_params, fontsize=\"small\")\n",
    "\n",
    "# only to viz twisted states\n",
    "fig, ax = plt.subplots(figsize=(2, 2))\n",
    "ax, ims = xgi.draw(\n",
    "    H,\n",
    "    pos=pos,\n",
    "    node_fc=thetas_arr[i, :, -1] % (2 * np.pi),\n",
    "    node_fc_cmap=\"twilight\",\n",
    "    node_size=5,\n",
    ")\n",
    "plt.colorbar(ims[0], label=\"phase value\")"
   ]
  },
  {
   "cell_type": "code",
   "execution_count": 51,
   "id": "098fa4f4",
   "metadata": {},
   "outputs": [
    {
     "data": {
      "text/plain": [
       "{'sync'}"
      ]
     },
     "execution_count": 51,
     "metadata": {},
     "output_type": "execute_result"
    }
   ],
   "source": [
    "states = [identify_state(thetas, atol=0.01) for thetas in thetas_arr]\n",
    "set(states)"
   ]
  },
  {
   "cell_type": "code",
   "execution_count": 52,
   "id": "6af16e8c",
   "metadata": {},
   "outputs": [
    {
     "data": {
      "text/plain": [
       "(array(['sync'], dtype='<U4'), array([100]))"
      ]
     },
     "execution_count": 52,
     "metadata": {},
     "output_type": "execute_result"
    }
   ],
   "source": [
    "states_unique, counts = np.unique(states, return_counts=True)\n",
    "states_unique, counts"
   ]
  },
  {
   "cell_type": "code",
   "execution_count": 53,
   "id": "f50e22c9",
   "metadata": {},
   "outputs": [
    {
     "data": {
      "text/plain": [
       "['sync',\n",
       " 'sync',\n",
       " 'sync',\n",
       " 'sync',\n",
       " 'sync',\n",
       " 'sync',\n",
       " 'sync',\n",
       " 'sync',\n",
       " 'sync',\n",
       " 'sync',\n",
       " 'sync',\n",
       " 'sync',\n",
       " 'sync',\n",
       " 'sync',\n",
       " 'sync',\n",
       " 'sync',\n",
       " 'sync',\n",
       " 'sync',\n",
       " 'sync',\n",
       " 'sync',\n",
       " 'sync',\n",
       " 'sync',\n",
       " 'sync',\n",
       " 'sync',\n",
       " 'sync',\n",
       " 'sync',\n",
       " 'sync',\n",
       " 'sync',\n",
       " 'sync',\n",
       " 'sync',\n",
       " 'sync',\n",
       " 'sync',\n",
       " 'sync',\n",
       " 'sync',\n",
       " 'sync',\n",
       " 'sync',\n",
       " 'sync',\n",
       " 'sync',\n",
       " 'sync',\n",
       " 'sync',\n",
       " 'sync',\n",
       " 'sync',\n",
       " 'sync',\n",
       " 'sync',\n",
       " 'sync',\n",
       " 'sync',\n",
       " 'sync',\n",
       " 'sync',\n",
       " 'sync',\n",
       " 'sync',\n",
       " 'sync',\n",
       " 'sync',\n",
       " 'sync',\n",
       " 'sync',\n",
       " 'sync',\n",
       " 'sync',\n",
       " 'sync',\n",
       " 'sync',\n",
       " 'sync',\n",
       " 'sync',\n",
       " 'sync',\n",
       " 'sync',\n",
       " 'sync',\n",
       " 'sync',\n",
       " 'sync',\n",
       " 'sync',\n",
       " 'sync',\n",
       " 'sync',\n",
       " 'sync',\n",
       " 'sync',\n",
       " 'sync',\n",
       " 'sync',\n",
       " 'sync',\n",
       " 'sync',\n",
       " 'sync',\n",
       " 'sync',\n",
       " 'sync',\n",
       " 'sync',\n",
       " 'sync',\n",
       " 'sync',\n",
       " 'sync',\n",
       " 'sync',\n",
       " 'sync',\n",
       " 'sync',\n",
       " 'sync',\n",
       " 'sync',\n",
       " 'sync',\n",
       " 'sync',\n",
       " 'sync',\n",
       " 'sync',\n",
       " 'sync',\n",
       " 'sync',\n",
       " 'sync',\n",
       " 'sync',\n",
       " 'sync',\n",
       " 'sync',\n",
       " 'sync',\n",
       " 'sync',\n",
       " 'sync',\n",
       " 'sync']"
      ]
     },
     "execution_count": 53,
     "metadata": {},
     "output_type": "execute_result"
    }
   ],
   "source": [
    "states"
   ]
  },
  {
   "cell_type": "code",
   "execution_count": null,
   "id": "08be495b",
   "metadata": {},
   "outputs": [],
   "source": [
    "plt.hist(states)"
   ]
  },
  {
   "cell_type": "markdown",
   "id": "362b10cc",
   "metadata": {},
   "source": [
    "## Loop over k2"
   ]
  },
  {
   "cell_type": "code",
   "execution_count": 14,
   "id": "6109443f",
   "metadata": {},
   "outputs": [
    {
     "data": {
      "image/png": "[encoded data removed]",
      "text/plain": [
       "<Figure size 100x100 with 1 Axes>"
      ]
     },
     "metadata": {},
     "output_type": "display_data"
    },
    {
     "data": {
      "text/plain": [
       "<matplotlib.colorbar.Colorbar at 0x17ea7f8e0>"
      ]
     },
     "execution_count": 14,
     "metadata": {},
     "output_type": "execute_result"
    },
    {
     "data": {
      "image/png": "[encoded data removed]",
      "text/plain": [
       "<Figure size 200x200 with 2 Axes>"
      ]
     },
     "metadata": {},
     "output_type": "display_data"
    }
   ],
   "source": [
    "###### Set parameters\n",
    "\n",
    "# dynamical\n",
    "k1 = 1  # pairwise coupling strength\n",
    "k2 = 0  # triplet coupling strength\n",
    "omega = 1 * np.ones(N)  # np.random.normal(size=N) #1 * np.ones(N)\n",
    "\n",
    "ic = \"random\"  # initial condition type, see below\n",
    "noise = 1e-1  # noise strength\n",
    "p2 = None\n",
    "\n",
    "\n",
    "psi_init = generate_state(N, kind=ic, q=2, noise=noise)\n",
    "\n",
    "# integration\n",
    "t_end = 200\n",
    "dt = 0.01\n",
    "times = np.arange(0, t_end + dt / 2, dt)\n",
    "\n",
    "tag_params = f\"k1_{k1}_k2_{k2}_ic_{ic}\"\n",
    "\n",
    "fig, ax = plt.subplots(figsize=(1, 1))\n",
    "plot_phases(psi_init, it=None, ax=ax)\n",
    "plt.show()\n",
    "\n",
    "# only to viz twisted states\n",
    "fig, ax = plt.subplots(figsize=(2, 2))\n",
    "ax, ims = xgi.draw(\n",
    "    H, pos=pos, node_fc=psi_init % (2 * np.pi), node_fc_cmap=\"twilight\", node_size=5\n",
    ")\n",
    "plt.colorbar(ims[0], label=\"phase value\")"
   ]
  },
  {
   "cell_type": "code",
   "execution_count": 15,
   "id": "281fcca2",
   "metadata": {},
   "outputs": [
    {
     "name": "stderr",
     "output_type": "stream",
     "text": [
      "100%|███████████████████████████████████████████| 10/10 [00:05<00:00,  1.68it/s]\n",
      "100%|███████████████████████████████████████████| 10/10 [00:05<00:00,  1.70it/s]\n",
      "100%|███████████████████████████████████████████| 10/10 [00:05<00:00,  1.69it/s]\n",
      "100%|███████████████████████████████████████████| 10/10 [00:05<00:00,  1.70it/s]\n",
      "100%|███████████████████████████████████████████| 10/10 [00:05<00:00,  1.69it/s]\n",
      "100%|███████████████████████████████████████████| 10/10 [00:05<00:00,  1.69it/s]\n",
      "100%|███████████████████████████████████████████| 10/10 [00:05<00:00,  1.70it/s]\n"
     ]
    }
   ],
   "source": [
    "n_reps = 10\n",
    "\n",
    "k2s = [0, 0.5, 1, 1.5, 2, 2.5, 3]\n",
    "\n",
    "# simulate\n",
    "kwargs = {\n",
    "    \"links\": links,\n",
    "    \"triangles\": triangles,\n",
    "    #    \"k1_avg\": k1_avg,\n",
    "    #    \"k2_avg\": k2_avg\n",
    "    \"r1\": r1,\n",
    "    \"r2\": r2,\n",
    "}\n",
    "\n",
    "thetas_arr = np.zeros((n_reps, len(k2s), N, len(times)))\n",
    "\n",
    "for j, k2 in enumerate(k2s):\n",
    "    for i in tqdm(range(n_reps)):\n",
    "        psi_init = generate_state(N, kind=\"random\", noise=noise)\n",
    "\n",
    "        thetas, times = simulate_kuramoto(\n",
    "            H,\n",
    "            k1,\n",
    "            k2,\n",
    "            omega=omega,\n",
    "            theta_0=psi_init,\n",
    "            t_end=t_end,\n",
    "            dt=dt,\n",
    "            rhs=rhs_23_nn_sym,  # rhs_pairwise_all  #rhs_triplet_all_asym\n",
    "            **kwargs\n",
    "        )\n",
    "\n",
    "        thetas_arr[i, j] = thetas"
   ]
  },
  {
   "cell_type": "code",
   "execution_count": 62,
   "id": "82eace5c",
   "metadata": {},
   "outputs": [
    {
     "name": "stderr",
     "output_type": "stream",
     "text": [
      "100%|█████████████████████████████████████████████| 7/7 [01:41<00:00, 14.46s/it]\n"
     ]
    }
   ],
   "source": [
    "results = {}\n",
    "\n",
    "for j, k2 in enumerate(tqdm(k2s)):\n",
    "    states = [identify_state(thetas, atol=0.5) for thetas in thetas_arr[:, j]]\n",
    "    states_unique, counts = np.unique(states, return_counts=True)\n",
    "    probs = counts / n_reps\n",
    "\n",
    "    results[k2] = {}\n",
    "    for state, prob in zip(states_unique, probs):\n",
    "        results[k2][state] = prob"
   ]
  },
  {
   "cell_type": "code",
   "execution_count": 63,
   "id": "e808a398",
   "metadata": {},
   "outputs": [
    {
     "data": {
      "text/plain": [
       "{0: {'-1-twisted': 0.07,\n",
       "  '-2-twisted': 0.02,\n",
       "  '-3-twisted': 0.02,\n",
       "  '1-twisted': 0.04,\n",
       "  '2-twisted': 0.02,\n",
       "  '3-twisted': 0.02,\n",
       "  'other': 0.48,\n",
       "  'sync': 0.33},\n",
       " 0.5: {'-2-twisted': 0.01, '2-cluster': 0.47, 'other': 0.52},\n",
       " 1: {'2-cluster': 0.37, 'other': 0.63},\n",
       " 1.5: {'2-cluster': 0.36, 'other': 0.64},\n",
       " 2: {'2-cluster': 0.34, 'other': 0.66},\n",
       " 2.5: {'2-cluster': 0.31, 'other': 0.69},\n",
       " 3: {'2-cluster': 0.35, 'other': 0.65}}"
      ]
     },
     "execution_count": 63,
     "metadata": {},
     "output_type": "execute_result"
    }
   ],
   "source": [
    "results"
   ]
  },
  {
   "cell_type": "code",
   "execution_count": 64,
   "id": "edb2c65e",
   "metadata": {},
   "outputs": [],
   "source": [
    "import pandas as pd"
   ]
  },
  {
   "cell_type": "code",
   "execution_count": 65,
   "id": "f8800cb0",
   "metadata": {},
   "outputs": [
    {
     "data": {
      "text/html": [
       "<div>\n",
       "<style scoped>\n",
       "    .dataframe tbody tr th:only-of-type {\n",
       "        vertical-align: middle;\n",
       "    }\n",
       "\n",
       "    .dataframe tbody tr th {\n",
       "        vertical-align: top;\n",
       "    }\n",
       "\n",
       "    .dataframe thead th {\n",
       "        text-align: right;\n",
       "    }\n",
       "</style>\n",
       "<table border=\"1\" class=\"dataframe\">\n",
       "  <thead>\n",
       "    <tr style=\"text-align: right;\">\n",
       "      <th></th>\n",
       "      <th>k2</th>\n",
       "      <th>-1-twisted</th>\n",
       "      <th>-2-twisted</th>\n",
       "      <th>-3-twisted</th>\n",
       "      <th>1-twisted</th>\n",
       "      <th>2-twisted</th>\n",
       "      <th>3-twisted</th>\n",
       "      <th>other</th>\n",
       "      <th>sync</th>\n",
       "      <th>2-cluster</th>\n",
       "    </tr>\n",
       "  </thead>\n",
       "  <tbody>\n",
       "    <tr>\n",
       "      <th>0</th>\n",
       "      <td>0.0</td>\n",
       "      <td>0.07</td>\n",
       "      <td>0.02</td>\n",
       "      <td>0.02</td>\n",
       "      <td>0.04</td>\n",
       "      <td>0.02</td>\n",
       "      <td>0.02</td>\n",
       "      <td>0.48</td>\n",
       "      <td>0.33</td>\n",
       "      <td>NaN</td>\n",
       "    </tr>\n",
       "    <tr>\n",
       "      <th>1</th>\n",
       "      <td>0.5</td>\n",
       "      <td>NaN</td>\n",
       "      <td>0.01</td>\n",
       "      <td>NaN</td>\n",
       "      <td>NaN</td>\n",
       "      <td>NaN</td>\n",
       "      <td>NaN</td>\n",
       "      <td>0.52</td>\n",
       "      <td>NaN</td>\n",
       "      <td>0.47</td>\n",
       "    </tr>\n",
       "    <tr>\n",
       "      <th>2</th>\n",
       "      <td>1.0</td>\n",
       "      <td>NaN</td>\n",
       "      <td>NaN</td>\n",
       "      <td>NaN</td>\n",
       "      <td>NaN</td>\n",
       "      <td>NaN</td>\n",
       "      <td>NaN</td>\n",
       "      <td>0.63</td>\n",
       "      <td>NaN</td>\n",
       "      <td>0.37</td>\n",
       "    </tr>\n",
       "    <tr>\n",
       "      <th>3</th>\n",
       "      <td>1.5</td>\n",
       "      <td>NaN</td>\n",
       "      <td>NaN</td>\n",
       "      <td>NaN</td>\n",
       "      <td>NaN</td>\n",
       "      <td>NaN</td>\n",
       "      <td>NaN</td>\n",
       "      <td>0.64</td>\n",
       "      <td>NaN</td>\n",
       "      <td>0.36</td>\n",
       "    </tr>\n",
       "    <tr>\n",
       "      <th>4</th>\n",
       "      <td>2.0</td>\n",
       "      <td>NaN</td>\n",
       "      <td>NaN</td>\n",
       "      <td>NaN</td>\n",
       "      <td>NaN</td>\n",
       "      <td>NaN</td>\n",
       "      <td>NaN</td>\n",
       "      <td>0.66</td>\n",
       "      <td>NaN</td>\n",
       "      <td>0.34</td>\n",
       "    </tr>\n",
       "    <tr>\n",
       "      <th>5</th>\n",
       "      <td>2.5</td>\n",
       "      <td>NaN</td>\n",
       "      <td>NaN</td>\n",
       "      <td>NaN</td>\n",
       "      <td>NaN</td>\n",
       "      <td>NaN</td>\n",
       "      <td>NaN</td>\n",
       "      <td>0.69</td>\n",
       "      <td>NaN</td>\n",
       "      <td>0.31</td>\n",
       "    </tr>\n",
       "    <tr>\n",
       "      <th>6</th>\n",
       "      <td>3.0</td>\n",
       "      <td>NaN</td>\n",
       "      <td>NaN</td>\n",
       "      <td>NaN</td>\n",
       "      <td>NaN</td>\n",
       "      <td>NaN</td>\n",
       "      <td>NaN</td>\n",
       "      <td>0.65</td>\n",
       "      <td>NaN</td>\n",
       "      <td>0.35</td>\n",
       "    </tr>\n",
       "  </tbody>\n",
       "</table>\n",
       "</div>"
      ],
      "text/plain": [
       "    k2  -1-twisted  -2-twisted  -3-twisted  1-twisted  2-twisted  3-twisted  \\\n",
       "0  0.0        0.07        0.02        0.02       0.04       0.02       0.02   \n",
       "1  0.5         NaN        0.01         NaN        NaN        NaN        NaN   \n",
       "2  1.0         NaN         NaN         NaN        NaN        NaN        NaN   \n",
       "3  1.5         NaN         NaN         NaN        NaN        NaN        NaN   \n",
       "4  2.0         NaN         NaN         NaN        NaN        NaN        NaN   \n",
       "5  2.5         NaN         NaN         NaN        NaN        NaN        NaN   \n",
       "6  3.0         NaN         NaN         NaN        NaN        NaN        NaN   \n",
       "\n",
       "   other  sync  2-cluster  \n",
       "0   0.48  0.33        NaN  \n",
       "1   0.52   NaN       0.47  \n",
       "2   0.63   NaN       0.37  \n",
       "3   0.64   NaN       0.36  \n",
       "4   0.66   NaN       0.34  \n",
       "5   0.69   NaN       0.31  \n",
       "6   0.65   NaN       0.35  "
      ]
     },
     "execution_count": 65,
     "metadata": {},
     "output_type": "execute_result"
    }
   ],
   "source": [
    "df = pd.DataFrame.from_dict(results, orient=\"index\").reset_index(names=\"k2\")\n",
    "df"
   ]
  },
  {
   "cell_type": "code",
   "execution_count": 66,
   "id": "0858afc2",
   "metadata": {},
   "outputs": [
    {
     "data": {
      "text/html": [
       "<div>\n",
       "<style scoped>\n",
       "    .dataframe tbody tr th:only-of-type {\n",
       "        vertical-align: middle;\n",
       "    }\n",
       "\n",
       "    .dataframe tbody tr th {\n",
       "        vertical-align: top;\n",
       "    }\n",
       "\n",
       "    .dataframe thead th {\n",
       "        text-align: right;\n",
       "    }\n",
       "</style>\n",
       "<table border=\"1\" class=\"dataframe\">\n",
       "  <thead>\n",
       "    <tr style=\"text-align: right;\">\n",
       "      <th></th>\n",
       "      <th>k2</th>\n",
       "      <th>state</th>\n",
       "      <th>proba</th>\n",
       "    </tr>\n",
       "  </thead>\n",
       "  <tbody>\n",
       "    <tr>\n",
       "      <th>0</th>\n",
       "      <td>0.0</td>\n",
       "      <td>-1-twisted</td>\n",
       "      <td>0.07</td>\n",
       "    </tr>\n",
       "    <tr>\n",
       "      <th>1</th>\n",
       "      <td>0.5</td>\n",
       "      <td>-1-twisted</td>\n",
       "      <td>NaN</td>\n",
       "    </tr>\n",
       "    <tr>\n",
       "      <th>2</th>\n",
       "      <td>1.0</td>\n",
       "      <td>-1-twisted</td>\n",
       "      <td>NaN</td>\n",
       "    </tr>\n",
       "    <tr>\n",
       "      <th>3</th>\n",
       "      <td>1.5</td>\n",
       "      <td>-1-twisted</td>\n",
       "      <td>NaN</td>\n",
       "    </tr>\n",
       "    <tr>\n",
       "      <th>4</th>\n",
       "      <td>2.0</td>\n",
       "      <td>-1-twisted</td>\n",
       "      <td>NaN</td>\n",
       "    </tr>\n",
       "    <tr>\n",
       "      <th>...</th>\n",
       "      <td>...</td>\n",
       "      <td>...</td>\n",
       "      <td>...</td>\n",
       "    </tr>\n",
       "    <tr>\n",
       "      <th>58</th>\n",
       "      <td>1.0</td>\n",
       "      <td>2-cluster</td>\n",
       "      <td>0.37</td>\n",
       "    </tr>\n",
       "    <tr>\n",
       "      <th>59</th>\n",
       "      <td>1.5</td>\n",
       "      <td>2-cluster</td>\n",
       "      <td>0.36</td>\n",
       "    </tr>\n",
       "    <tr>\n",
       "      <th>60</th>\n",
       "      <td>2.0</td>\n",
       "      <td>2-cluster</td>\n",
       "      <td>0.34</td>\n",
       "    </tr>\n",
       "    <tr>\n",
       "      <th>61</th>\n",
       "      <td>2.5</td>\n",
       "      <td>2-cluster</td>\n",
       "      <td>0.31</td>\n",
       "    </tr>\n",
       "    <tr>\n",
       "      <th>62</th>\n",
       "      <td>3.0</td>\n",
       "      <td>2-cluster</td>\n",
       "      <td>0.35</td>\n",
       "    </tr>\n",
       "  </tbody>\n",
       "</table>\n",
       "<p>63 rows × 3 columns</p>\n",
       "</div>"
      ],
      "text/plain": [
       "     k2       state  proba\n",
       "0   0.0  -1-twisted   0.07\n",
       "1   0.5  -1-twisted    NaN\n",
       "2   1.0  -1-twisted    NaN\n",
       "3   1.5  -1-twisted    NaN\n",
       "4   2.0  -1-twisted    NaN\n",
       "..  ...         ...    ...\n",
       "58  1.0   2-cluster   0.37\n",
       "59  1.5   2-cluster   0.36\n",
       "60  2.0   2-cluster   0.34\n",
       "61  2.5   2-cluster   0.31\n",
       "62  3.0   2-cluster   0.35\n",
       "\n",
       "[63 rows x 3 columns]"
      ]
     },
     "execution_count": 66,
     "metadata": {},
     "output_type": "execute_result"
    }
   ],
   "source": [
    "df_long = df.melt(id_vars=\"k2\", var_name=\"state\", value_name=\"proba\")\n",
    "df_long"
   ]
  },
  {
   "cell_type": "code",
   "execution_count": 3,
   "id": "39040506",
   "metadata": {},
   "outputs": [
    {
     "ename": "NameError",
     "evalue": "name 'plt' is not defined",
     "output_type": "error",
     "traceback": [
      "\u001b[0;31m---------------------------------------------------------------------------\u001b[0m",
      "\u001b[0;31mNameError\u001b[0m                                 Traceback (most recent call last)",
      "Cell \u001b[0;32mIn [3], line 1\u001b[0m\n\u001b[0;32m----> 1\u001b[0m fig, ax \u001b[38;5;241m=\u001b[39m plt\u001b[38;5;241m.\u001b[39msubplots(figsize\u001b[38;5;241m=\u001b[39m(\u001b[38;5;241m3.4\u001b[39m, \u001b[38;5;241m2.4\u001b[39m))\n\u001b[1;32m      2\u001b[0m g \u001b[38;5;241m=\u001b[39m sb\u001b[38;5;241m.\u001b[39mlineplot(\n\u001b[1;32m      3\u001b[0m     data\u001b[38;5;241m=\u001b[39mdf_long,\n\u001b[1;32m      4\u001b[0m     x\u001b[38;5;241m=\u001b[39m\u001b[38;5;124m\"\u001b[39m\u001b[38;5;124mk2\u001b[39m\u001b[38;5;124m\"\u001b[39m,\n\u001b[0;32m   (...)\u001b[0m\n\u001b[1;32m     12\u001b[0m     legend\u001b[38;5;241m=\u001b[39m\u001b[38;5;28;01mTrue\u001b[39;00m\n\u001b[1;32m     13\u001b[0m )\n\u001b[1;32m     15\u001b[0m g\u001b[38;5;241m.\u001b[39mset(yscale\u001b[38;5;241m=\u001b[39m\u001b[38;5;124m\"\u001b[39m\u001b[38;5;124mlog\u001b[39m\u001b[38;5;124m\"\u001b[39m)\n",
      "\u001b[0;31mNameError\u001b[0m: name 'plt' is not defined"
     ]
    }
   ],
   "source": [
    "fig, ax = plt.subplots(figsize=(3.4, 2.4))\n",
    "g = sb.lineplot(\n",
    "    data=df_long,\n",
    "    x=\"k2\",\n",
    "    y=\"proba\",\n",
    "    hue=\"state\",\n",
    "    markers=True,\n",
    "    ax=ax,\n",
    "    alpha=0.7,\n",
    "    style=\"state\",\n",
    "    # hue_order=[\"sync\", \"2-cluster\", \"other\"]\n",
    "    legend=True,\n",
    ")\n",
    "\n",
    "g.set(yscale=\"log\")\n",
    "\n",
    "ax.set_xlabel(\"k2, triplet coupling strength\")\n",
    "\n",
    "title = f\"all-to-all, {ic} ic, {n_reps} reps \\n rhs_pairwise_triplet_all_asym\"\n",
    "ax.set_title(title)\n",
    "\n",
    "sb.move_legend(g, loc=\"center left\", bbox_to_anchor=(1, 0.5))\n",
    "\n",
    "\n",
    "sb.despine()\n",
    "ax.set_ylim(ymax=1.1)\n",
    "\n",
    "fig_name = f\"basin_size_a2a_ic_{ic}_nreps_{n_reps}_rhs_pairwise_triplet_all_asym\"\n",
    "\n",
    "# plt.savefig(f\"{results_dir}{fig_name}.png\", dpi=300, bbox_inches=\"tight\")"
   ]
  },
  {
   "cell_type": "code",
   "execution_count": null,
   "id": "04a6d759",
   "metadata": {},
   "outputs": [],
   "source": [
    "df_long.to_csv()"
   ]
  },
  {
   "cell_type": "code",
   "execution_count": 98,
   "id": "6c59dd93",
   "metadata": {},
   "outputs": [
    {
     "data": {
      "text/plain": [
       "'2-cluster'"
      ]
     },
     "execution_count": 98,
     "metadata": {},
     "output_type": "execute_result"
    },
    {
     "data": {
      "image/png": "[encoded data removed]",
      "text/plain": [
       "<Figure size 400x200 with 4 Axes>"
      ]
     },
     "metadata": {},
     "output_type": "display_data"
    }
   ],
   "source": [
    "# plot the last repetition\n",
    "i = 5\n",
    "j = 3\n",
    "fig, axs = plot_sync(thetas_arr[i, j], times)\n",
    "\n",
    "axs[0, 1].set_title(f\"$t={times[0]}$s\", fontsize=\"x-small\")\n",
    "axs[1, 1].set_title(f\"$t={times[-1]}$s\", fontsize=\"x-small\")\n",
    "\n",
    "axs[0, 0].set_xlabel(\"\")\n",
    "axs[1, 0].legend(loc=\"best\", fontsize=\"x-small\")\n",
    "\n",
    "plt.subplots_adjust(hspace=0.5, top=0.8)\n",
    "\n",
    "identify_state(thetas_arr[i, j])\n",
    "\n",
    "# fig.suptitle(tag_params, fontsize=\"small\")\n",
    "\n",
    "# only to viz twisted states\n",
    "# fig, ax = plt.subplots(figsize=(3, 3))\n",
    "# ax, ims = xgi.draw(\n",
    "#    H, pos=pos, node_fc=thetas_arr[i,j,-1] % (2 * np.pi), node_fc_cmap=\"twilight\", node_size=5\n",
    "# )\n",
    "# plt.colorbar(ims[0], label=\"phase value\")"
   ]
  },
  {
   "cell_type": "code",
   "execution_count": null,
   "id": "6b401ca1",
   "metadata": {},
   "outputs": [],
   "source": []
  },
  {
   "cell_type": "code",
   "execution_count": 148,
   "id": "c1a0db0a",
   "metadata": {},
   "outputs": [],
   "source": [
    "dat = np.load(\"../code/thetas_arr.npy\")"
   ]
  },
  {
   "cell_type": "code",
   "execution_count": 149,
   "id": "a2cf4009",
   "metadata": {},
   "outputs": [
    {
     "data": {
      "text/plain": [
       "(100, 6, 30, 20001)"
      ]
     },
     "execution_count": 149,
     "metadata": {},
     "output_type": "execute_result"
    }
   ],
   "source": [
    "dat.shape"
   ]
  },
  {
   "cell_type": "code",
   "execution_count": 152,
   "id": "5367cf86",
   "metadata": {},
   "outputs": [
    {
     "name": "stderr",
     "output_type": "stream",
     "text": [
      "100%|█████████████████████████████████████████████| 6/6 [00:21<00:00,  3.60s/it]\n"
     ]
    }
   ],
   "source": [
    "results = {}\n",
    "k2s = [0, 0.5, 1, 1.5, 2, 2.5]\n",
    "\n",
    "for j, k2 in enumerate(tqdm(k2s)):\n",
    "    states = [identify_state(thetas, atol=0.5) for thetas in dat[:, j]]\n",
    "    states_unique, counts = np.unique(states, return_counts=True)\n",
    "    probs = counts / n_reps\n",
    "\n",
    "    results[k2] = {}\n",
    "    for state, prob in zip(states_unique, probs):\n",
    "        results[k2][state] = prob"
   ]
  },
  {
   "cell_type": "code",
   "execution_count": 153,
   "id": "ba1f8ea0",
   "metadata": {},
   "outputs": [
    {
     "data": {
      "text/plain": [
       "{0: {'sync': 1.0},\n",
       " 0.5: {'sync': 1.0},\n",
       " 1: {'sync': 1.0},\n",
       " 1.5: {'sync': 1.0},\n",
       " 2: {'sync': 1.0},\n",
       " 2.5: {'sync': 1.0}}"
      ]
     },
     "execution_count": 153,
     "metadata": {},
     "output_type": "execute_result"
    }
   ],
   "source": [
    "results"
   ]
  }
 ],
 "metadata": {
  "kernelspec": {
   "display_name": "venv_xgi",
   "language": "python",
   "name": "venv_xgi"
  },
  "language_info": {
   "codemirror_mode": {
    "name": "ipython",
    "version": 3
   },
   "file_extension": ".py",
   "mimetype": "text/x-python",
   "name": "python",
   "nbconvert_exporter": "python",
   "pygments_lexer": "ipython3",
   "version": "3.9.13"
  },
  "toc": {
   "base_numbering": 1,
   "nav_menu": {},
   "number_sections": true,
   "sideBar": true,
   "skip_h1_title": false,
   "title_cell": "Table of Contents",
   "title_sidebar": "Contents",
   "toc_cell": false,
   "toc_position": {},
   "toc_section_display": true,
   "toc_window_display": true
  },
  "vscode": {
   "interpreter": {
    "hash": "78db47bee367e3fae825d59af43d695909ce208402094df58551906768c6e91c"
   }
  }
 },
 "nbformat": 4,
 "nbformat_minor": 5
}
